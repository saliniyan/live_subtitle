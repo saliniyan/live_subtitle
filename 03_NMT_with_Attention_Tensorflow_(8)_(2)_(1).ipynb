{
  "cells": [
    {
      "cell_type": "code",
      "execution_count": 26,
      "metadata": {
        "id": "P6NCNVZdM-d-"
      },
      "outputs": [],
      "source": [
        "#Libraries\n",
        "import pathlib\n",
        "import random\n",
        "import string\n",
        "import re\n",
        "import numpy as np\n",
        "import pandas as pd\n",
        "import matplotlib.pyplot as plt\n",
        "import tensorflow as tf\n",
        "from tensorflow import keras\n",
        "from tensorflow.keras import layers\n",
        "from tensorflow.keras.layers import TextVectorization\n",
        "from tensorflow.keras.callbacks import EarlyStopping\n",
        "from tensorflow.keras import callbacks"
      ]
    },
    {
      "cell_type": "code",
      "execution_count": null,
      "metadata": {
        "id": "nWlPq_OnNSzQ"
      },
      "outputs": [],
      "source": [
        "eng_file = '/content/drive/MyDrive/en-ta/train.en'\n",
        "tamil_file = '/content/drive/MyDrive/en-ta/train.ta'"
      ]
    },
    {
      "cell_type": "code",
      "execution_count": null,
      "metadata": {
        "colab": {
          "base_uri": "https://localhost:8080/"
        },
        "id": "Xve9sGmY_y6R",
        "outputId": "caf1ded7-9745-4a73-da91-b948cfeff72f"
      },
      "outputs": [
        {
          "output_type": "stream",
          "name": "stdout",
          "text": [
            "Mounted at /content/drive\n"
          ]
        }
      ],
      "source": [
        "from google.colab import drive\n",
        "drive.mount('/content/drive')"
      ]
    },
    {
      "cell_type": "code",
      "execution_count": null,
      "metadata": {
        "id": "s_U2sHClNcoH"
      },
      "outputs": [],
      "source": [
        "with open(eng_file, 'r') as file:\n",
        "    english_sentences = file.readlines()\n",
        "with open(tamil_file, 'r') as file:\n",
        "    tamil_sentences = file.readlines()\n",
        "\n",
        "\n",
        "english_sentences = [sentence.rstrip('\\n').lower() for sentence in english_sentences]\n",
        "tamil_sentences = [sentence.rstrip('\\n') for sentence in tamil_sentences]"
      ]
    },
    {
      "cell_type": "code",
      "execution_count": null,
      "metadata": {
        "id": "cMD_loL5NfYC"
      },
      "outputs": [],
      "source": [
        "# filter out sentences which contains letters other than whats listed below\n",
        "tamil_vocabulary = [ ' ', '!', '\"', '#', '$', '%', '&', \"'\", '(', ')', '*', '+', ',', '-', '.', '/',\n",
        "                      '0', '1', '2', '3', '4', '5', '6', '7', '8', '9', ':', '<', '=', '>', '?', 'ˌ',\n",
        "                      \"ஃ\", \"அ\", \"ஆ\", \"இ\", \"ஈ\", \"உ\", \"ஊ\", \"எ\", \"ஏ\", \"ஐ\", \"ஒ\", \"ஓ\", \"ஔ\",\n",
        "                      \"க\", \"ங\", \"ச\", \"ஜ\", \"ஞ\", \"ட\", \"ண\",\n",
        "                      \"த\", \"ந\", \"ன\", \"ப\", \"ம\", \"ய\", \"ர\",\n",
        "                      \"ற\", \"ல\", \"ள\", \"ழ\", \"வ\", \"ஶ\", \"ஷ\", \"ஸ\", \"ஹ\",\n",
        "                      \"ா\", \"ி\", \"ீ\", \"ு\", \"ூ\", \"ெ\", \"ே\", \"ை\", \"ொ\", \"ோ\", \"ௌ\", \"்\", \"ௗ\",\n",
        "                      \"௦\", \"௧\", \"௨\", \"௫\", \"௬\", \"௲\", \"௳\"\n",
        "                      ]\n",
        "\n",
        "english_vocabulary = [' ', '!', '\"', '#', '$', '%', '&', \"'\", '(', ')', '*', '+', ',', '-', '.', '/',\n",
        "                        '0', '1', '2', '3', '4', '5', '6', '7', '8', '9',\n",
        "                        ':', '<', '=', '>', '?', '@',\n",
        "                        '[', '\\\\', ']', '^', '_', '`',\n",
        "                        'a', 'b', 'c', 'd', 'e', 'f', 'g', 'h', 'i', 'j', 'k', 'l',\n",
        "                        'm', 'n', 'o', 'p', 'q', 'r', 's', 't', 'u', 'v', 'w', 'x',\n",
        "                        'y', 'z',\n",
        "                        '{', '|', '}', '~']"
      ]
    },
    {
      "cell_type": "code",
      "execution_count": null,
      "metadata": {
        "id": "kB-SFjUHNmXa"
      },
      "outputs": [],
      "source": [
        "def is_valid_tokens(sentence , vocab):\n",
        "    for token in list(set(sentence)):\n",
        "        if token not in vocab:\n",
        "            return False\n",
        "    return True\n",
        "\n",
        "valid_sentence_indicies = []\n",
        "for index in range(len(english_sentences[:400000])):\n",
        "    tamil_sentence, english_sentence = tamil_sentences[index], english_sentences[index]\n",
        "    if is_valid_tokens(tamil_sentence, tamil_vocabulary) \\\n",
        "      and is_valid_tokens(english_sentence , english_vocabulary):\n",
        "        valid_sentence_indicies.append(index)"
      ]
    },
    {
      "cell_type": "code",
      "execution_count": null,
      "metadata": {
        "id": "1dEv5HxSN4Zv"
      },
      "outputs": [],
      "source": [
        "TOTAL_SENTENCES = 200000 # lets take 200000 valid sentences to train the model\n",
        "x = [english_sentences[i] for i in valid_sentence_indicies[:TOTAL_SENTENCES]]\n",
        "y = [tamil_sentences[i] for i in valid_sentence_indicies[:TOTAL_SENTENCES]]"
      ]
    },
    {
      "cell_type": "code",
      "execution_count": null,
      "metadata": {
        "colab": {
          "base_uri": "https://localhost:8080/"
        },
        "id": "9tW6u08dNyrF",
        "outputId": "7931532f-65ab-46c7-cd93-66ea8b31857f"
      },
      "outputs": [
        {
          "name": "stdout",
          "output_type": "stream",
          "text": [
            "<class 'pandas.core.frame.DataFrame'>\n",
            "RangeIndex: 200000 entries, 0 to 199999\n",
            "Data columns (total 2 columns):\n",
            " #   Column   Non-Null Count   Dtype \n",
            "---  ------   --------------   ----- \n",
            " 0   English  200000 non-null  object\n",
            " 1   Tamil    200000 non-null  object\n",
            "dtypes: object(2)\n",
            "memory usage: 3.1+ MB\n"
          ]
        }
      ],
      "source": [
        "import pandas as pd\n",
        "dataset =  pd.DataFrame({\"English\":x , \"Tamil\":y })\n",
        "dataset.info()\n"
      ]
    },
    {
      "cell_type": "code",
      "execution_count": null,
      "metadata": {
        "colab": {
          "base_uri": "https://localhost:8080/",
          "height": 206
        },
        "id": "OkaMHA5uQlif",
        "outputId": "5639917d-5669-46f0-8f9c-47643544412d"
      },
      "outputs": [
        {
          "data": {
            "text/html": [
              "\n",
              "  <div id=\"df-6242fdf4-1353-4e3a-a48b-bb9fd4aa3a74\" class=\"colab-df-container\">\n",
              "    <div>\n",
              "<style scoped>\n",
              "    .dataframe tbody tr th:only-of-type {\n",
              "        vertical-align: middle;\n",
              "    }\n",
              "\n",
              "    .dataframe tbody tr th {\n",
              "        vertical-align: top;\n",
              "    }\n",
              "\n",
              "    .dataframe thead th {\n",
              "        text-align: right;\n",
              "    }\n",
              "</style>\n",
              "<table border=\"1\" class=\"dataframe\">\n",
              "  <thead>\n",
              "    <tr style=\"text-align: right;\">\n",
              "      <th></th>\n",
              "      <th>English</th>\n",
              "      <th>Tamil</th>\n",
              "    </tr>\n",
              "  </thead>\n",
              "  <tbody>\n",
              "    <tr>\n",
              "      <th>83292</th>\n",
              "      <td>for that, he thanked people of the area and pa...</td>\n",
              "      <td>இவருக்கு காங்கிரஸ் கட்சியின் நிா்வாகிகளும், அந...</td>\n",
              "    </tr>\n",
              "    <tr>\n",
              "      <th>160422</th>\n",
              "      <td>she said that these initiatives have up-graded...</td>\n",
              "      <td>வீட்டு வசதி நிதித் துறையை இந்திய ரிசர்வ் வங்கி...</td>\n",
              "    </tr>\n",
              "    <tr>\n",
              "      <th>159073</th>\n",
              "      <td>hence, action is being taken to set up an agro...</td>\n",
              "      <td>எனவே கிருஷ்ணகிரி மண்டல ஊரக வளர்ச்சி மற்றும் ஊர...</td>\n",
              "    </tr>\n",
              "    <tr>\n",
              "      <th>86022</th>\n",
              "      <td>recent statistics in the us reveal that in 200...</td>\n",
              "      <td>அமெரிக்காவில் சமீபத்திய புள்ளிவிவரங்கள், 2005ம...</td>\n",
              "    </tr>\n",
              "    <tr>\n",
              "      <th>97840</th>\n",
              "      <td>even paul had to endure a continuing conflict ...</td>\n",
              "      <td>இது, தேவபக்தியை வெளிக்காட்டுவதில் நல்ல ஆன்மீக ...</td>\n",
              "    </tr>\n",
              "  </tbody>\n",
              "</table>\n",
              "</div>\n",
              "    <div class=\"colab-df-buttons\">\n",
              "\n",
              "  <div class=\"colab-df-container\">\n",
              "    <button class=\"colab-df-convert\" onclick=\"convertToInteractive('df-6242fdf4-1353-4e3a-a48b-bb9fd4aa3a74')\"\n",
              "            title=\"Convert this dataframe to an interactive table.\"\n",
              "            style=\"display:none;\">\n",
              "\n",
              "  <svg xmlns=\"http://www.w3.org/2000/svg\" height=\"24px\" viewBox=\"0 -960 960 960\">\n",
              "    <path d=\"M120-120v-720h720v720H120Zm60-500h600v-160H180v160Zm220 220h160v-160H400v160Zm0 220h160v-160H400v160ZM180-400h160v-160H180v160Zm440 0h160v-160H620v160ZM180-180h160v-160H180v160Zm440 0h160v-160H620v160Z\"/>\n",
              "  </svg>\n",
              "    </button>\n",
              "\n",
              "  <style>\n",
              "    .colab-df-container {\n",
              "      display:flex;\n",
              "      gap: 12px;\n",
              "    }\n",
              "\n",
              "    .colab-df-convert {\n",
              "      background-color: #E8F0FE;\n",
              "      border: none;\n",
              "      border-radius: 50%;\n",
              "      cursor: pointer;\n",
              "      display: none;\n",
              "      fill: #1967D2;\n",
              "      height: 32px;\n",
              "      padding: 0 0 0 0;\n",
              "      width: 32px;\n",
              "    }\n",
              "\n",
              "    .colab-df-convert:hover {\n",
              "      background-color: #E2EBFA;\n",
              "      box-shadow: 0px 1px 2px rgba(60, 64, 67, 0.3), 0px 1px 3px 1px rgba(60, 64, 67, 0.15);\n",
              "      fill: #174EA6;\n",
              "    }\n",
              "\n",
              "    .colab-df-buttons div {\n",
              "      margin-bottom: 4px;\n",
              "    }\n",
              "\n",
              "    [theme=dark] .colab-df-convert {\n",
              "      background-color: #3B4455;\n",
              "      fill: #D2E3FC;\n",
              "    }\n",
              "\n",
              "    [theme=dark] .colab-df-convert:hover {\n",
              "      background-color: #434B5C;\n",
              "      box-shadow: 0px 1px 3px 1px rgba(0, 0, 0, 0.15);\n",
              "      filter: drop-shadow(0px 1px 2px rgba(0, 0, 0, 0.3));\n",
              "      fill: #FFFFFF;\n",
              "    }\n",
              "  </style>\n",
              "\n",
              "    <script>\n",
              "      const buttonEl =\n",
              "        document.querySelector('#df-6242fdf4-1353-4e3a-a48b-bb9fd4aa3a74 button.colab-df-convert');\n",
              "      buttonEl.style.display =\n",
              "        google.colab.kernel.accessAllowed ? 'block' : 'none';\n",
              "\n",
              "      async function convertToInteractive(key) {\n",
              "        const element = document.querySelector('#df-6242fdf4-1353-4e3a-a48b-bb9fd4aa3a74');\n",
              "        const dataTable =\n",
              "          await google.colab.kernel.invokeFunction('convertToInteractive',\n",
              "                                                    [key], {});\n",
              "        if (!dataTable) return;\n",
              "\n",
              "        const docLinkHtml = 'Like what you see? Visit the ' +\n",
              "          '<a target=\"_blank\" href=https://colab.research.google.com/notebooks/data_table.ipynb>data table notebook</a>'\n",
              "          + ' to learn more about interactive tables.';\n",
              "        element.innerHTML = '';\n",
              "        dataTable['output_type'] = 'display_data';\n",
              "        await google.colab.output.renderOutput(dataTable, element);\n",
              "        const docLink = document.createElement('div');\n",
              "        docLink.innerHTML = docLinkHtml;\n",
              "        element.appendChild(docLink);\n",
              "      }\n",
              "    </script>\n",
              "  </div>\n",
              "\n",
              "\n",
              "<div id=\"df-39cb6254-f733-4d8d-a077-22446f4444c4\">\n",
              "  <button class=\"colab-df-quickchart\" onclick=\"quickchart('df-39cb6254-f733-4d8d-a077-22446f4444c4')\"\n",
              "            title=\"Suggest charts.\"\n",
              "            style=\"display:none;\">\n",
              "\n",
              "<svg xmlns=\"http://www.w3.org/2000/svg\" height=\"24px\"viewBox=\"0 0 24 24\"\n",
              "     width=\"24px\">\n",
              "    <g>\n",
              "        <path d=\"M19 3H5c-1.1 0-2 .9-2 2v14c0 1.1.9 2 2 2h14c1.1 0 2-.9 2-2V5c0-1.1-.9-2-2-2zM9 17H7v-7h2v7zm4 0h-2V7h2v10zm4 0h-2v-4h2v4z\"/>\n",
              "    </g>\n",
              "</svg>\n",
              "  </button>\n",
              "\n",
              "<style>\n",
              "  .colab-df-quickchart {\n",
              "      --bg-color: #E8F0FE;\n",
              "      --fill-color: #1967D2;\n",
              "      --hover-bg-color: #E2EBFA;\n",
              "      --hover-fill-color: #174EA6;\n",
              "      --disabled-fill-color: #AAA;\n",
              "      --disabled-bg-color: #DDD;\n",
              "  }\n",
              "\n",
              "  [theme=dark] .colab-df-quickchart {\n",
              "      --bg-color: #3B4455;\n",
              "      --fill-color: #D2E3FC;\n",
              "      --hover-bg-color: #434B5C;\n",
              "      --hover-fill-color: #FFFFFF;\n",
              "      --disabled-bg-color: #3B4455;\n",
              "      --disabled-fill-color: #666;\n",
              "  }\n",
              "\n",
              "  .colab-df-quickchart {\n",
              "    background-color: var(--bg-color);\n",
              "    border: none;\n",
              "    border-radius: 50%;\n",
              "    cursor: pointer;\n",
              "    display: none;\n",
              "    fill: var(--fill-color);\n",
              "    height: 32px;\n",
              "    padding: 0;\n",
              "    width: 32px;\n",
              "  }\n",
              "\n",
              "  .colab-df-quickchart:hover {\n",
              "    background-color: var(--hover-bg-color);\n",
              "    box-shadow: 0 1px 2px rgba(60, 64, 67, 0.3), 0 1px 3px 1px rgba(60, 64, 67, 0.15);\n",
              "    fill: var(--button-hover-fill-color);\n",
              "  }\n",
              "\n",
              "  .colab-df-quickchart-complete:disabled,\n",
              "  .colab-df-quickchart-complete:disabled:hover {\n",
              "    background-color: var(--disabled-bg-color);\n",
              "    fill: var(--disabled-fill-color);\n",
              "    box-shadow: none;\n",
              "  }\n",
              "\n",
              "  .colab-df-spinner {\n",
              "    border: 2px solid var(--fill-color);\n",
              "    border-color: transparent;\n",
              "    border-bottom-color: var(--fill-color);\n",
              "    animation:\n",
              "      spin 1s steps(1) infinite;\n",
              "  }\n",
              "\n",
              "  @keyframes spin {\n",
              "    0% {\n",
              "      border-color: transparent;\n",
              "      border-bottom-color: var(--fill-color);\n",
              "      border-left-color: var(--fill-color);\n",
              "    }\n",
              "    20% {\n",
              "      border-color: transparent;\n",
              "      border-left-color: var(--fill-color);\n",
              "      border-top-color: var(--fill-color);\n",
              "    }\n",
              "    30% {\n",
              "      border-color: transparent;\n",
              "      border-left-color: var(--fill-color);\n",
              "      border-top-color: var(--fill-color);\n",
              "      border-right-color: var(--fill-color);\n",
              "    }\n",
              "    40% {\n",
              "      border-color: transparent;\n",
              "      border-right-color: var(--fill-color);\n",
              "      border-top-color: var(--fill-color);\n",
              "    }\n",
              "    60% {\n",
              "      border-color: transparent;\n",
              "      border-right-color: var(--fill-color);\n",
              "    }\n",
              "    80% {\n",
              "      border-color: transparent;\n",
              "      border-right-color: var(--fill-color);\n",
              "      border-bottom-color: var(--fill-color);\n",
              "    }\n",
              "    90% {\n",
              "      border-color: transparent;\n",
              "      border-bottom-color: var(--fill-color);\n",
              "    }\n",
              "  }\n",
              "</style>\n",
              "\n",
              "  <script>\n",
              "    async function quickchart(key) {\n",
              "      const quickchartButtonEl =\n",
              "        document.querySelector('#' + key + ' button');\n",
              "      quickchartButtonEl.disabled = true;  // To prevent multiple clicks.\n",
              "      quickchartButtonEl.classList.add('colab-df-spinner');\n",
              "      try {\n",
              "        const charts = await google.colab.kernel.invokeFunction(\n",
              "            'suggestCharts', [key], {});\n",
              "      } catch (error) {\n",
              "        console.error('Error during call to suggestCharts:', error);\n",
              "      }\n",
              "      quickchartButtonEl.classList.remove('colab-df-spinner');\n",
              "      quickchartButtonEl.classList.add('colab-df-quickchart-complete');\n",
              "    }\n",
              "    (() => {\n",
              "      let quickchartButtonEl =\n",
              "        document.querySelector('#df-39cb6254-f733-4d8d-a077-22446f4444c4 button');\n",
              "      quickchartButtonEl.style.display =\n",
              "        google.colab.kernel.accessAllowed ? 'block' : 'none';\n",
              "    })();\n",
              "  </script>\n",
              "</div>\n",
              "    </div>\n",
              "  </div>\n"
            ],
            "text/plain": [
              "                                                  English                                              Tamil\n",
              "83292   for that, he thanked people of the area and pa...  இவருக்கு காங்கிரஸ் கட்சியின் நிா்வாகிகளும், அந...\n",
              "160422  she said that these initiatives have up-graded...  வீட்டு வசதி நிதித் துறையை இந்திய ரிசர்வ் வங்கி...\n",
              "159073  hence, action is being taken to set up an agro...  எனவே கிருஷ்ணகிரி மண்டல ஊரக வளர்ச்சி மற்றும் ஊர...\n",
              "86022   recent statistics in the us reveal that in 200...  அமெரிக்காவில் சமீபத்திய புள்ளிவிவரங்கள், 2005ம...\n",
              "97840   even paul had to endure a continuing conflict ...  இது, தேவபக்தியை வெளிக்காட்டுவதில் நல்ல ஆன்மீக ..."
            ]
          },
          "execution_count": 9,
          "metadata": {},
          "output_type": "execute_result"
        }
      ],
      "source": [
        "dataset.sample(5)"
      ]
    },
    {
      "cell_type": "code",
      "execution_count": null,
      "metadata": {
        "id": "cG7j82LkBDuJ"
      },
      "outputs": [],
      "source": [
        "dataset.to_csv('/content/drive/MyDrive/NMT-Project/data.csv' , index = False )"
      ]
    },
    {
      "cell_type": "code",
      "execution_count": 27,
      "metadata": {
        "colab": {
          "base_uri": "https://localhost:8080/",
          "height": 206
        },
        "id": "hADUIpxlBaWS",
        "outputId": "b9c84551-2362-41d7-bc66-96a6ec610a08"
      },
      "outputs": [
        {
          "output_type": "execute_result",
          "data": {
            "text/plain": [
              "   Unnamed: 0    0         1\n",
              "0           0  Go.      போ.\n",
              "1           1  Go.      போ.\n",
              "2           2  Go.      போ.\n",
              "3           3  Go.      போ.\n",
              "4           4  Hi.  வணக்கம்."
            ],
            "text/html": [
              "\n",
              "  <div id=\"df-260986e5-6ec5-4def-bec9-a27f85d2c0fe\" class=\"colab-df-container\">\n",
              "    <div>\n",
              "<style scoped>\n",
              "    .dataframe tbody tr th:only-of-type {\n",
              "        vertical-align: middle;\n",
              "    }\n",
              "\n",
              "    .dataframe tbody tr th {\n",
              "        vertical-align: top;\n",
              "    }\n",
              "\n",
              "    .dataframe thead th {\n",
              "        text-align: right;\n",
              "    }\n",
              "</style>\n",
              "<table border=\"1\" class=\"dataframe\">\n",
              "  <thead>\n",
              "    <tr style=\"text-align: right;\">\n",
              "      <th></th>\n",
              "      <th>Unnamed: 0</th>\n",
              "      <th>0</th>\n",
              "      <th>1</th>\n",
              "    </tr>\n",
              "  </thead>\n",
              "  <tbody>\n",
              "    <tr>\n",
              "      <th>0</th>\n",
              "      <td>0</td>\n",
              "      <td>Go.</td>\n",
              "      <td>போ.</td>\n",
              "    </tr>\n",
              "    <tr>\n",
              "      <th>1</th>\n",
              "      <td>1</td>\n",
              "      <td>Go.</td>\n",
              "      <td>போ.</td>\n",
              "    </tr>\n",
              "    <tr>\n",
              "      <th>2</th>\n",
              "      <td>2</td>\n",
              "      <td>Go.</td>\n",
              "      <td>போ.</td>\n",
              "    </tr>\n",
              "    <tr>\n",
              "      <th>3</th>\n",
              "      <td>3</td>\n",
              "      <td>Go.</td>\n",
              "      <td>போ.</td>\n",
              "    </tr>\n",
              "    <tr>\n",
              "      <th>4</th>\n",
              "      <td>4</td>\n",
              "      <td>Hi.</td>\n",
              "      <td>வணக்கம்.</td>\n",
              "    </tr>\n",
              "  </tbody>\n",
              "</table>\n",
              "</div>\n",
              "    <div class=\"colab-df-buttons\">\n",
              "\n",
              "  <div class=\"colab-df-container\">\n",
              "    <button class=\"colab-df-convert\" onclick=\"convertToInteractive('df-260986e5-6ec5-4def-bec9-a27f85d2c0fe')\"\n",
              "            title=\"Convert this dataframe to an interactive table.\"\n",
              "            style=\"display:none;\">\n",
              "\n",
              "  <svg xmlns=\"http://www.w3.org/2000/svg\" height=\"24px\" viewBox=\"0 -960 960 960\">\n",
              "    <path d=\"M120-120v-720h720v720H120Zm60-500h600v-160H180v160Zm220 220h160v-160H400v160Zm0 220h160v-160H400v160ZM180-400h160v-160H180v160Zm440 0h160v-160H620v160ZM180-180h160v-160H180v160Zm440 0h160v-160H620v160Z\"/>\n",
              "  </svg>\n",
              "    </button>\n",
              "\n",
              "  <style>\n",
              "    .colab-df-container {\n",
              "      display:flex;\n",
              "      gap: 12px;\n",
              "    }\n",
              "\n",
              "    .colab-df-convert {\n",
              "      background-color: #E8F0FE;\n",
              "      border: none;\n",
              "      border-radius: 50%;\n",
              "      cursor: pointer;\n",
              "      display: none;\n",
              "      fill: #1967D2;\n",
              "      height: 32px;\n",
              "      padding: 0 0 0 0;\n",
              "      width: 32px;\n",
              "    }\n",
              "\n",
              "    .colab-df-convert:hover {\n",
              "      background-color: #E2EBFA;\n",
              "      box-shadow: 0px 1px 2px rgba(60, 64, 67, 0.3), 0px 1px 3px 1px rgba(60, 64, 67, 0.15);\n",
              "      fill: #174EA6;\n",
              "    }\n",
              "\n",
              "    .colab-df-buttons div {\n",
              "      margin-bottom: 4px;\n",
              "    }\n",
              "\n",
              "    [theme=dark] .colab-df-convert {\n",
              "      background-color: #3B4455;\n",
              "      fill: #D2E3FC;\n",
              "    }\n",
              "\n",
              "    [theme=dark] .colab-df-convert:hover {\n",
              "      background-color: #434B5C;\n",
              "      box-shadow: 0px 1px 3px 1px rgba(0, 0, 0, 0.15);\n",
              "      filter: drop-shadow(0px 1px 2px rgba(0, 0, 0, 0.3));\n",
              "      fill: #FFFFFF;\n",
              "    }\n",
              "  </style>\n",
              "\n",
              "    <script>\n",
              "      const buttonEl =\n",
              "        document.querySelector('#df-260986e5-6ec5-4def-bec9-a27f85d2c0fe button.colab-df-convert');\n",
              "      buttonEl.style.display =\n",
              "        google.colab.kernel.accessAllowed ? 'block' : 'none';\n",
              "\n",
              "      async function convertToInteractive(key) {\n",
              "        const element = document.querySelector('#df-260986e5-6ec5-4def-bec9-a27f85d2c0fe');\n",
              "        const dataTable =\n",
              "          await google.colab.kernel.invokeFunction('convertToInteractive',\n",
              "                                                    [key], {});\n",
              "        if (!dataTable) return;\n",
              "\n",
              "        const docLinkHtml = 'Like what you see? Visit the ' +\n",
              "          '<a target=\"_blank\" href=https://colab.research.google.com/notebooks/data_table.ipynb>data table notebook</a>'\n",
              "          + ' to learn more about interactive tables.';\n",
              "        element.innerHTML = '';\n",
              "        dataTable['output_type'] = 'display_data';\n",
              "        await google.colab.output.renderOutput(dataTable, element);\n",
              "        const docLink = document.createElement('div');\n",
              "        docLink.innerHTML = docLinkHtml;\n",
              "        element.appendChild(docLink);\n",
              "      }\n",
              "    </script>\n",
              "  </div>\n",
              "\n",
              "\n",
              "    <div id=\"df-cc06e819-4a06-4f76-8910-c76b927783f9\">\n",
              "      <button class=\"colab-df-quickchart\" onclick=\"quickchart('df-cc06e819-4a06-4f76-8910-c76b927783f9')\"\n",
              "                title=\"Suggest charts\"\n",
              "                style=\"display:none;\">\n",
              "\n",
              "<svg xmlns=\"http://www.w3.org/2000/svg\" height=\"24px\"viewBox=\"0 0 24 24\"\n",
              "     width=\"24px\">\n",
              "    <g>\n",
              "        <path d=\"M19 3H5c-1.1 0-2 .9-2 2v14c0 1.1.9 2 2 2h14c1.1 0 2-.9 2-2V5c0-1.1-.9-2-2-2zM9 17H7v-7h2v7zm4 0h-2V7h2v10zm4 0h-2v-4h2v4z\"/>\n",
              "    </g>\n",
              "</svg>\n",
              "      </button>\n",
              "\n",
              "<style>\n",
              "  .colab-df-quickchart {\n",
              "      --bg-color: #E8F0FE;\n",
              "      --fill-color: #1967D2;\n",
              "      --hover-bg-color: #E2EBFA;\n",
              "      --hover-fill-color: #174EA6;\n",
              "      --disabled-fill-color: #AAA;\n",
              "      --disabled-bg-color: #DDD;\n",
              "  }\n",
              "\n",
              "  [theme=dark] .colab-df-quickchart {\n",
              "      --bg-color: #3B4455;\n",
              "      --fill-color: #D2E3FC;\n",
              "      --hover-bg-color: #434B5C;\n",
              "      --hover-fill-color: #FFFFFF;\n",
              "      --disabled-bg-color: #3B4455;\n",
              "      --disabled-fill-color: #666;\n",
              "  }\n",
              "\n",
              "  .colab-df-quickchart {\n",
              "    background-color: var(--bg-color);\n",
              "    border: none;\n",
              "    border-radius: 50%;\n",
              "    cursor: pointer;\n",
              "    display: none;\n",
              "    fill: var(--fill-color);\n",
              "    height: 32px;\n",
              "    padding: 0;\n",
              "    width: 32px;\n",
              "  }\n",
              "\n",
              "  .colab-df-quickchart:hover {\n",
              "    background-color: var(--hover-bg-color);\n",
              "    box-shadow: 0 1px 2px rgba(60, 64, 67, 0.3), 0 1px 3px 1px rgba(60, 64, 67, 0.15);\n",
              "    fill: var(--button-hover-fill-color);\n",
              "  }\n",
              "\n",
              "  .colab-df-quickchart-complete:disabled,\n",
              "  .colab-df-quickchart-complete:disabled:hover {\n",
              "    background-color: var(--disabled-bg-color);\n",
              "    fill: var(--disabled-fill-color);\n",
              "    box-shadow: none;\n",
              "  }\n",
              "\n",
              "  .colab-df-spinner {\n",
              "    border: 2px solid var(--fill-color);\n",
              "    border-color: transparent;\n",
              "    border-bottom-color: var(--fill-color);\n",
              "    animation:\n",
              "      spin 1s steps(1) infinite;\n",
              "  }\n",
              "\n",
              "  @keyframes spin {\n",
              "    0% {\n",
              "      border-color: transparent;\n",
              "      border-bottom-color: var(--fill-color);\n",
              "      border-left-color: var(--fill-color);\n",
              "    }\n",
              "    20% {\n",
              "      border-color: transparent;\n",
              "      border-left-color: var(--fill-color);\n",
              "      border-top-color: var(--fill-color);\n",
              "    }\n",
              "    30% {\n",
              "      border-color: transparent;\n",
              "      border-left-color: var(--fill-color);\n",
              "      border-top-color: var(--fill-color);\n",
              "      border-right-color: var(--fill-color);\n",
              "    }\n",
              "    40% {\n",
              "      border-color: transparent;\n",
              "      border-right-color: var(--fill-color);\n",
              "      border-top-color: var(--fill-color);\n",
              "    }\n",
              "    60% {\n",
              "      border-color: transparent;\n",
              "      border-right-color: var(--fill-color);\n",
              "    }\n",
              "    80% {\n",
              "      border-color: transparent;\n",
              "      border-right-color: var(--fill-color);\n",
              "      border-bottom-color: var(--fill-color);\n",
              "    }\n",
              "    90% {\n",
              "      border-color: transparent;\n",
              "      border-bottom-color: var(--fill-color);\n",
              "    }\n",
              "  }\n",
              "</style>\n",
              "\n",
              "      <script>\n",
              "        async function quickchart(key) {\n",
              "          const quickchartButtonEl =\n",
              "            document.querySelector('#' + key + ' button');\n",
              "          quickchartButtonEl.disabled = true;  // To prevent multiple clicks.\n",
              "          quickchartButtonEl.classList.add('colab-df-spinner');\n",
              "          try {\n",
              "            const charts = await google.colab.kernel.invokeFunction(\n",
              "                'suggestCharts', [key], {});\n",
              "          } catch (error) {\n",
              "            console.error('Error during call to suggestCharts:', error);\n",
              "          }\n",
              "          quickchartButtonEl.classList.remove('colab-df-spinner');\n",
              "          quickchartButtonEl.classList.add('colab-df-quickchart-complete');\n",
              "        }\n",
              "        (() => {\n",
              "          let quickchartButtonEl =\n",
              "            document.querySelector('#df-cc06e819-4a06-4f76-8910-c76b927783f9 button');\n",
              "          quickchartButtonEl.style.display =\n",
              "            google.colab.kernel.accessAllowed ? 'block' : 'none';\n",
              "        })();\n",
              "      </script>\n",
              "    </div>\n",
              "\n",
              "    </div>\n",
              "  </div>\n"
            ],
            "application/vnd.google.colaboratory.intrinsic+json": {
              "type": "dataframe",
              "variable_name": "dataset",
              "summary": "{\n  \"name\": \"dataset\",\n  \"rows\": 87528,\n  \"fields\": [\n    {\n      \"column\": \"Unnamed: 0\",\n      \"properties\": {\n        \"dtype\": \"number\",\n        \"std\": 25267,\n        \"min\": 0,\n        \"max\": 87527,\n        \"num_unique_values\": 87528,\n        \"samples\": [\n          3112,\n          12481,\n          1246\n        ],\n        \"semantic_type\": \"\",\n        \"description\": \"\"\n      }\n    },\n    {\n      \"column\": \"0\",\n      \"properties\": {\n        \"dtype\": \"string\",\n        \"num_unique_values\": 71538,\n        \"samples\": [\n          \"Tom knows a lot about computers.\",\n          \"We're intrigued.\",\n          \"Whose house is that?\"\n        ],\n        \"semantic_type\": \"\",\n        \"description\": \"\"\n      }\n    },\n    {\n      \"column\": \"1\",\n      \"properties\": {\n        \"dtype\": \"string\",\n        \"num_unique_values\": 68276,\n        \"samples\": [\n          \"\\u0b92\\u0bb5\\u0bcd\\u0bb5\\u0bca\\u0bb0\\u0bc1 \\u0b9c\\u0bc2\\u0bb2\\u0bc8 \\u0ba8\\u0bbe\\u0ba9\\u0bcd\\u0b95\\u0bbe\\u0bae\\u0bcd \\u0ba4\\u0bc7\\u0ba4\\u0bbf\\u0baf\\u0bc1\\u0bae\\u0bcd \\u0b87\\u0b99\\u0bcd\\u0b95\\u0bc1 \\u0bb5\\u0bb0\\u0bc1\\u0bb5\\u0bc7\\u0ba9\\u0bcd.\",\n          \"\\u0baa\\u0bbf\\u0ba9\\u0bcd\\u0bb5\\u0bb0\\u0bc1\\u0bae\\u0bcd \\u0bb5\\u0bb4\\u0bbf\\u0baf\\u0bbf\\u0bb2\\u0bcd \\u0b85\\u0ba4\\u0bc8\\u0b95\\u0bcd \\u0b95\\u0bb5\\u0ba9\\u0bbf\\u0baa\\u0bcd\\u0baa\\u0bcb\\u0bae\\u0bcd.\",\n          \"\\u0ba8\\u0bbe\\u0ba9\\u0bcd \\u0b85\\u0ba9\\u0bc1\\u0baa\\u0bcd\\u0baa\\u0bbe\\u0ba4 \\u0b95\\u0b9f\\u0bbf\\u0ba4\\u0b99\\u0bcd\\u0b95\\u0bb3\\u0bc8 \\u0b8e\\u0bb4\\u0bc1\\u0ba4\\u0bc1\\u0b95\\u0bbf\\u0bb1\\u0bc7\\u0ba9\\u0bcd.\"\n        ],\n        \"semantic_type\": \"\",\n        \"description\": \"\"\n      }\n    }\n  ]\n}"
            }
          },
          "metadata": {},
          "execution_count": 27
        }
      ],
      "source": [
        "dataset = pd.read_csv('/content/general_en_ta 87k (2).csv')\n",
        "dataset.head()"
      ]
    },
    {
      "cell_type": "code",
      "execution_count": 28,
      "metadata": {
        "id": "zQN83ZIYQ7VB"
      },
      "outputs": [],
      "source": [
        "text_pairs = []\n",
        "\n",
        "for i in range(dataset.shape[0]) :\n",
        "    eng = str(dataset[\"0\"][i])\n",
        "    tam = \"[start] \" + str(dataset[\"1\"][i]) + \" [end]\"\n",
        "    text_pairs.append((eng,tam))"
      ]
    },
    {
      "cell_type": "code",
      "execution_count": 29,
      "metadata": {
        "colab": {
          "base_uri": "https://localhost:8080/"
        },
        "id": "4wJmhIASVF5U",
        "outputId": "958b1239-6e4d-4ad8-e8c8-1b4144182fc2"
      },
      "outputs": [
        {
          "output_type": "execute_result",
          "data": {
            "text/plain": [
              "87528"
            ]
          },
          "metadata": {},
          "execution_count": 29
        }
      ],
      "source": [
        "len(text_pairs)\n"
      ]
    },
    {
      "cell_type": "code",
      "execution_count": 30,
      "metadata": {
        "id": "fqJLqUwqVOFa"
      },
      "outputs": [],
      "source": [
        "train_sample_size = len(text_pairs) - int(0.1*len(text_pairs))\n",
        "train_pairs = text_pairs[:train_sample_size]\n",
        "test_pairs = text_pairs[train_sample_size:]"
      ]
    },
    {
      "cell_type": "code",
      "execution_count": 31,
      "metadata": {
        "colab": {
          "base_uri": "https://localhost:8080/"
        },
        "id": "uZePVpMOZigz",
        "outputId": "04c55708-6d32-4cae-8a32-a2ed858778ff"
      },
      "outputs": [
        {
          "output_type": "stream",
          "name": "stdout",
          "text": [
            "Total pairs : 87528\n",
            "Train pairs : 78776\n",
            "Test pairs : 8752\n"
          ]
        }
      ],
      "source": [
        "print(\"Total pairs :\", len(text_pairs))\n",
        "print(\"Train pairs :\", len(train_pairs))\n",
        "print(\"Test pairs :\", len(test_pairs))"
      ]
    },
    {
      "cell_type": "code",
      "execution_count": 32,
      "metadata": {
        "id": "HlFE96z5aGOH"
      },
      "outputs": [],
      "source": [
        "strip_chars = string.punctuation + \"|\"\n",
        "strip_chars = strip_chars.replace(\"[\", \"\")\n",
        "strip_chars = strip_chars.replace(\"]\", \"\")\n",
        "strip_chars = strip_chars.replace('\"\"', \"\")\n",
        "\n",
        "vocab_size = 35000\n",
        "sequence_length = 30\n",
        "batch_size = 64"
      ]
    },
    {
      "cell_type": "code",
      "execution_count": 33,
      "metadata": {
        "id": "GVsTtwd-aQX9"
      },
      "outputs": [],
      "source": [
        "\n",
        "def custom_standardization(input_string):\n",
        "    lowercase = tf.strings.lower(input_string)\n",
        "    return tf.strings.regex_replace(lowercase, \"[%s]\" % re.escape(strip_chars), \"\")"
      ]
    },
    {
      "cell_type": "markdown",
      "metadata": {
        "id": "Eka8ur6zAdx4"
      },
      "source": [
        "---"
      ]
    },
    {
      "cell_type": "code",
      "execution_count": 34,
      "metadata": {
        "id": "gWK93ztIaXCU"
      },
      "outputs": [],
      "source": [
        "eng_vectorization = TextVectorization(\n",
        "    max_tokens=vocab_size, output_mode=\"int\", output_sequence_length=sequence_length,\n",
        ")\n",
        "\n",
        "tam_vectorization = TextVectorization(\n",
        "    max_tokens=vocab_size,\n",
        "    output_mode=\"int\",\n",
        "    output_sequence_length=sequence_length + 1,\n",
        "    standardize=custom_standardization,\n",
        ")"
      ]
    },
    {
      "cell_type": "code",
      "execution_count": 35,
      "metadata": {
        "id": "fTsq6xqqacUT"
      },
      "outputs": [],
      "source": [
        "train_eng_texts = [pair[0] for pair in train_pairs]\n",
        "train_tam_texts = [pair[1] for pair in train_pairs]\n",
        "eng_vectorization.adapt(train_eng_texts)\n",
        "tam_vectorization.adapt(train_tam_texts)"
      ]
    },
    {
      "cell_type": "code",
      "execution_count": 36,
      "metadata": {
        "id": "XKwC7ligNnEg"
      },
      "outputs": [],
      "source": [
        "import json\n",
        "\n",
        "# Get the vocabulary\n",
        "eng_vocab = eng_vectorization.get_vocabulary()\n",
        "tam_vocab = tam_vectorization.get_vocabulary()\n",
        "\n",
        "\n",
        "# Save the vocabulary\n",
        "with open('/content/eng_vocab.json', 'w') as f:\n",
        "    json.dump(eng_vocab, f)\n",
        "with open('/content/tam_vocab.json', 'w') as f:\n",
        "    json.dump(tam_vocab, f)"
      ]
    },
    {
      "cell_type": "code",
      "execution_count": 37,
      "metadata": {
        "id": "1j1MTJz_OG3L"
      },
      "outputs": [],
      "source": [
        "import json\n",
        "\n",
        "\n",
        "vocab_size = 35000\n",
        "sequence_length = 30\n",
        "batch_size = 64\n",
        "\n",
        "\n",
        "# Load the vocabulary\n",
        "with open('/content/eng_vocab.json', 'r') as f:\n",
        "    eng_vocab = json.load(f)\n",
        "with open('/content/tam_vocab.json', 'r') as f:\n",
        "    tam_vocab = json.load(f)\n",
        "\n",
        "# Create a TextVectorization layer with the loaded vocabulary\n",
        "eng_vectorization = TextVectorization(vocabulary=eng_vocab,output_mode=\"int\", output_sequence_length=sequence_length)\n",
        "tam_vectorization = TextVectorization(vocabulary=tam_vocab,output_mode=\"int\",\n",
        "    output_sequence_length=sequence_length + 1,\n",
        "    standardize=custom_standardization)"
      ]
    },
    {
      "cell_type": "code",
      "execution_count": 38,
      "metadata": {
        "id": "2kofnF7fagxf"
      },
      "outputs": [],
      "source": [
        "def format_dataset(eng, tam):\n",
        "    eng = eng_vectorization(eng)\n",
        "    tam = tam_vectorization(tam)\n",
        "    return ({\"encoder_inputs\": eng, \"decoder_inputs\": tam[:, :-1],}, tam[:, 1:])"
      ]
    },
    {
      "cell_type": "code",
      "execution_count": 39,
      "metadata": {
        "id": "mcQhwuqdauKg"
      },
      "outputs": [],
      "source": [
        "def make_dataset(pairs):\n",
        "    eng_texts, tam_texts = zip(*pairs)\n",
        "    eng_texts = list(eng_texts)\n",
        "    tam_texts = list(tam_texts)\n",
        "    dataset = tf.data.Dataset.from_tensor_slices((eng_texts, tam_texts))\n",
        "    dataset = dataset.batch(batch_size)\n",
        "    dataset = dataset.map(format_dataset)\n",
        "    return dataset.shuffle(2048).prefetch(16).cache()"
      ]
    },
    {
      "cell_type": "code",
      "execution_count": 40,
      "metadata": {
        "id": "3rvJJMvTbPAm"
      },
      "outputs": [],
      "source": [
        "train_ds = make_dataset(train_pairs)\n",
        "test_ds = make_dataset(test_pairs)"
      ]
    },
    {
      "cell_type": "code",
      "execution_count": 41,
      "metadata": {
        "colab": {
          "base_uri": "https://localhost:8080/"
        },
        "id": "ihbcYj-SaxLH",
        "outputId": "5d36c82c-2736-4848-b9a6-dba767658b0b"
      },
      "outputs": [
        {
          "output_type": "stream",
          "name": "stdout",
          "text": [
            "inputs[\"encoder_inputs\"].shape: (64, 30)\n",
            "inputs[\"decoder_inputs\"].shape: (64, 30)\n",
            "targets.shape: (64, 30)\n",
            "inputs[\"encoder_inputs\"].shape: (64, 30)\n",
            "inputs[\"decoder_inputs\"].shape: (64, 30)\n",
            "targets.shape: (64, 30)\n"
          ]
        }
      ],
      "source": [
        "for inputs, targets in train_ds.take(2):\n",
        "    print(f'inputs[\"encoder_inputs\"].shape: {inputs[\"encoder_inputs\"].shape}')\n",
        "    print(f'inputs[\"decoder_inputs\"].shape: {inputs[\"decoder_inputs\"].shape}')\n",
        "    print(f\"targets.shape: {targets.shape}\")"
      ]
    },
    {
      "cell_type": "code",
      "execution_count": 42,
      "metadata": {
        "id": "J1ELfsDzbJ8Z"
      },
      "outputs": [],
      "source": [
        "\n",
        "class TransformerEncoder(layers.Layer):\n",
        "    def __init__(self, embed_dim, dense_dim, num_heads, **kwargs):\n",
        "        super().__init__(**kwargs)\n",
        "        self.embed_dim = embed_dim\n",
        "        self.dense_dim = dense_dim\n",
        "        self.num_heads = num_heads\n",
        "        self.attention = layers.MultiHeadAttention(\n",
        "            num_heads=num_heads, key_dim=embed_dim\n",
        "        )\n",
        "        self.dense_proj = keras.Sequential(\n",
        "            [layers.Dense(dense_dim, activation=\"relu\"), layers.Dense(embed_dim),]\n",
        "        )\n",
        "        self.layernorm_1 = layers.LayerNormalization()\n",
        "        self.layernorm_2 = layers.LayerNormalization()\n",
        "        self.supports_masking = True\n",
        "\n",
        "    def call(self, inputs, mask=None):\n",
        "        if mask is not None:\n",
        "            padding_mask = tf.cast(mask[:, tf.newaxis, :], dtype=\"int32\")\n",
        "        attention_output = self.attention(\n",
        "            query=inputs, value=inputs, key=inputs, attention_mask=padding_mask\n",
        "        )\n",
        "        proj_input = self.layernorm_1(inputs + attention_output)\n",
        "        proj_output = self.dense_proj(proj_input)\n",
        "        return self.layernorm_2(proj_input + proj_output)"
      ]
    },
    {
      "cell_type": "code",
      "execution_count": 43,
      "metadata": {
        "id": "zK62TVskbi0I"
      },
      "outputs": [],
      "source": [
        "class PositionalEmbedding(layers.Layer):\n",
        "    def __init__(self, sequence_length, vocab_size, embed_dim, **kwargs):\n",
        "        super().__init__(**kwargs)\n",
        "        self.token_embeddings = layers.Embedding(\n",
        "            input_dim=vocab_size, output_dim=embed_dim\n",
        "        )\n",
        "        self.position_embeddings = layers.Embedding(\n",
        "            input_dim=sequence_length, output_dim=embed_dim\n",
        "        )\n",
        "        self.sequence_length = sequence_length\n",
        "        self.vocab_size = vocab_size\n",
        "        self.embed_dim = embed_dim\n",
        "\n",
        "    def call(self, inputs):\n",
        "        length = tf.shape(inputs)[-1]\n",
        "        positions = tf.range(start=0, limit=length, delta=1)\n",
        "        embedded_tokens = self.token_embeddings(inputs)\n",
        "        embedded_positions = self.position_embeddings(positions)\n",
        "        return embedded_tokens + embedded_positions\n",
        "\n",
        "    def compute_mask(self, inputs, mask=None):\n",
        "         return keras.ops.not_equal(inputs, 0)"
      ]
    },
    {
      "cell_type": "code",
      "execution_count": 44,
      "metadata": {
        "id": "Q7Icj1RNbk77"
      },
      "outputs": [],
      "source": [
        "class TransformerDecoder(layers.Layer):\n",
        "    def __init__(self, embed_dim, latent_dim, num_heads, **kwargs):\n",
        "        super().__init__(**kwargs)\n",
        "        self.embed_dim = embed_dim\n",
        "        self.latent_dim = latent_dim\n",
        "        self.num_heads = num_heads\n",
        "        self.attention_1 = layers.MultiHeadAttention(\n",
        "            num_heads=num_heads, key_dim=embed_dim\n",
        "        )\n",
        "        self.attention_2 = layers.MultiHeadAttention(\n",
        "            num_heads=num_heads, key_dim=embed_dim\n",
        "        )\n",
        "        self.dense_proj = keras.Sequential(\n",
        "            [layers.Dense(latent_dim, activation=\"relu\"), layers.Dense(embed_dim),]\n",
        "        )\n",
        "        self.layernorm_1 = layers.LayerNormalization()\n",
        "        self.layernorm_2 = layers.LayerNormalization()\n",
        "        self.layernorm_3 = layers.LayerNormalization()\n",
        "        self.supports_masking = True\n",
        "\n",
        "    def call(self, inputs, encoder_outputs, mask=None):\n",
        "        causal_mask = self.get_causal_attention_mask(inputs)\n",
        "\n",
        "        # Always define padding_mask\n",
        "        padding_mask = causal_mask  # default: just causal\n",
        "        if mask is not None:\n",
        "            base_mask = tf.cast(mask[:, tf.newaxis, :], dtype=\"int32\")   # [batch, 1, seq]\n",
        "            # broadcast causal_mask [1, seq, seq] with base_mask\n",
        "            padding_mask = tf.minimum(base_mask, causal_mask)\n",
        "\n",
        "        attention_output_1 = self.attention_1(\n",
        "            query=inputs, value=inputs, key=inputs, attention_mask=causal_mask\n",
        "        )\n",
        "        out_1 = self.layernorm_1(inputs + attention_output_1)\n",
        "\n",
        "        attention_output_2  = self.attention_2(\n",
        "            query=out_1,\n",
        "            value=encoder_outputs,\n",
        "            key=encoder_outputs,\n",
        "            attention_mask=padding_mask,\n",
        "        )\n",
        "        out_2 = self.layernorm_2(out_1 + attention_output_2)\n",
        "\n",
        "        proj_output = self.dense_proj(out_2)\n",
        "        return self.layernorm_3(out_2 + proj_output)\n",
        "\n",
        "\n",
        "    def get_causal_attention_mask(self, inputs):\n",
        "        input_shape = tf.shape(inputs)\n",
        "        batch_size, sequence_length = input_shape[0], input_shape[1]\n",
        "        i = tf.range(sequence_length)[:, tf.newaxis]\n",
        "        j = tf.range(sequence_length)\n",
        "        mask = tf.cast(i >= j, dtype=\"int32\")\n",
        "        mask = tf.reshape(mask, (1, input_shape[1], input_shape[1]))\n",
        "        mult = tf.concat(\n",
        "            [tf.expand_dims(batch_size, -1), tf.constant([1, 1], dtype=tf.int32)],\n",
        "            axis=0,\n",
        "        )\n",
        "        return tf.tile(mask, mult)"
      ]
    },
    {
      "cell_type": "code",
      "execution_count": 45,
      "metadata": {
        "colab": {
          "base_uri": "https://localhost:8080/"
        },
        "id": "4Ksz9gGNbzS6",
        "outputId": "c28130aa-3be4-4c59-9486-70abb1833bfc"
      },
      "outputs": [
        {
          "output_type": "stream",
          "name": "stderr",
          "text": [
            "/usr/local/lib/python3.12/dist-packages/keras/src/layers/layer.py:1474: UserWarning: Layer 'transformer_encoder' looks like it has unbuilt state, but Keras is not able to trace the layer `call()` in order to build it automatically. Possible causes:\n",
            "1. The `call()` method of your layer may be crashing. Try to `__call__()` the layer eagerly on some test input first to see if it works. E.g. `x = np.random.random((3, 4)); y = layer(x)`\n",
            "2. If the `call()` method is correct, then you may need to implement the `def build(self, input_shape)` method on your layer. It should create all variables used by the layer (e.g. by calling `layer.build()` on all its children layers).\n",
            "Exception encountered: ''cannot access local variable 'padding_mask' where it is not associated with a value''\n",
            "  warnings.warn(\n",
            "/usr/local/lib/python3.12/dist-packages/keras/src/layers/layer.py:421: UserWarning: `build()` was called on layer 'transformer_encoder', however the layer does not have a `build()` method implemented and it looks like it has unbuilt state. This will cause the layer to be marked as built, despite not being actually built, which may cause failures down the line. Make sure to implement a proper `build()` method.\n",
            "  warnings.warn(\n"
          ]
        },
        {
          "output_type": "execute_result",
          "data": {
            "text/plain": [
              "87527"
            ]
          },
          "metadata": {},
          "execution_count": 45
        }
      ],
      "source": [
        "embed_dim = 256\n",
        "latent_dim = 512\n",
        "num_heads = 4\n",
        "\n",
        "\n",
        "encoder_inputs = keras.Input(shape=(None,), dtype=\"int64\", name=\"encoder_inputs\")\n",
        "x = PositionalEmbedding(sequence_length, vocab_size, embed_dim)(encoder_inputs)\n",
        "encoder_outputs = TransformerEncoder(embed_dim, latent_dim, num_heads)(x)\n",
        "encoder = keras.Model(encoder_inputs, encoder_outputs)\n",
        "i"
      ]
    },
    {
      "cell_type": "code",
      "execution_count": 46,
      "metadata": {
        "id": "Ct_pBX3eb19n"
      },
      "outputs": [],
      "source": [
        "decoder_inputs = keras.Input(shape=(None,), dtype=\"int64\", name=\"decoder_inputs\")\n",
        "encoded_seq_inputs = keras.Input(shape=(None, embed_dim), name=\"decoder_state_inputs\")\n",
        "x = PositionalEmbedding(sequence_length, vocab_size, embed_dim)(decoder_inputs)\n",
        "x = TransformerDecoder(embed_dim, latent_dim, num_heads)(x, encoded_seq_inputs)\n",
        "x = layers.Dropout(0.5)(x)\n",
        "decoder_outputs = layers.Dense(vocab_size, activation=\"softmax\")(x)\n",
        "decoder = keras.Model([decoder_inputs, encoded_seq_inputs], decoder_outputs)"
      ]
    },
    {
      "cell_type": "code",
      "execution_count": 47,
      "metadata": {
        "colab": {
          "base_uri": "https://localhost:8080/"
        },
        "id": "JaXNIpDMb4UG",
        "outputId": "e3639b9d-6700-43f7-d02d-e4c71fbcc238"
      },
      "outputs": [
        {
          "output_type": "stream",
          "name": "stderr",
          "text": [
            "/usr/local/lib/python3.12/dist-packages/keras/src/layers/layer.py:965: UserWarning: Layer 'functional_3' (of type Functional) was passed an input with a mask attached to it. However, this layer does not support masking and will therefore destroy the mask information. Downstream layers will not see the mask.\n",
            "  warnings.warn(\n"
          ]
        }
      ],
      "source": [
        "decoder_outputs = decoder([decoder_inputs, encoder_outputs])\n",
        "transformer = keras.Model(\n",
        "    [encoder_inputs, decoder_inputs], decoder_outputs, name=\"transformer\"\n",
        ")\n"
      ]
    },
    {
      "cell_type": "code",
      "execution_count": 48,
      "metadata": {
        "colab": {
          "base_uri": "https://localhost:8080/",
          "height": 433
        },
        "id": "Iuslbfhfb6N7",
        "outputId": "2558a5ac-5837-43c6-88c0-162ff14a76e6"
      },
      "outputs": [
        {
          "output_type": "display_data",
          "data": {
            "text/plain": [
              "\u001b[1mModel: \"transformer\"\u001b[0m\n"
            ],
            "text/html": [
              "<pre style=\"white-space:pre;overflow-x:auto;line-height:normal;font-family:Menlo,'DejaVu Sans Mono',consolas,'Courier New',monospace\"><span style=\"font-weight: bold\">Model: \"transformer\"</span>\n",
              "</pre>\n"
            ]
          },
          "metadata": {}
        },
        {
          "output_type": "display_data",
          "data": {
            "text/plain": [
              "┏━━━━━━━━━━━━━━━━━━━━━┳━━━━━━━━━━━━━━━━━━━┳━━━━━━━━━━━━┳━━━━━━━━━━━━━━━━━━━┓\n",
              "┃\u001b[1m \u001b[0m\u001b[1mLayer (type)       \u001b[0m\u001b[1m \u001b[0m┃\u001b[1m \u001b[0m\u001b[1mOutput Shape     \u001b[0m\u001b[1m \u001b[0m┃\u001b[1m \u001b[0m\u001b[1m   Param #\u001b[0m\u001b[1m \u001b[0m┃\u001b[1m \u001b[0m\u001b[1mConnected to     \u001b[0m\u001b[1m \u001b[0m┃\n",
              "┡━━━━━━━━━━━━━━━━━━━━━╇━━━━━━━━━━━━━━━━━━━╇━━━━━━━━━━━━╇━━━━━━━━━━━━━━━━━━━┩\n",
              "│ encoder_inputs      │ (\u001b[38;5;45mNone\u001b[0m, \u001b[38;5;45mNone\u001b[0m)      │          \u001b[38;5;34m0\u001b[0m │ -                 │\n",
              "│ (\u001b[38;5;33mInputLayer\u001b[0m)        │                   │            │                   │\n",
              "├─────────────────────┼───────────────────┼────────────┼───────────────────┤\n",
              "│ positional_embeddi… │ (\u001b[38;5;45mNone\u001b[0m, \u001b[38;5;45mNone\u001b[0m, \u001b[38;5;34m256\u001b[0m) │  \u001b[38;5;34m8,967,680\u001b[0m │ encoder_inputs[\u001b[38;5;34m0\u001b[0m… │\n",
              "│ (\u001b[38;5;33mPositionalEmbeddi…\u001b[0m │                   │            │                   │\n",
              "├─────────────────────┼───────────────────┼────────────┼───────────────────┤\n",
              "│ not_equal           │ (\u001b[38;5;45mNone\u001b[0m, \u001b[38;5;45mNone\u001b[0m)      │          \u001b[38;5;34m0\u001b[0m │ encoder_inputs[\u001b[38;5;34m0\u001b[0m… │\n",
              "│ (\u001b[38;5;33mNotEqual\u001b[0m)          │                   │            │                   │\n",
              "├─────────────────────┼───────────────────┼────────────┼───────────────────┤\n",
              "│ decoder_inputs      │ (\u001b[38;5;45mNone\u001b[0m, \u001b[38;5;45mNone\u001b[0m)      │          \u001b[38;5;34m0\u001b[0m │ -                 │\n",
              "│ (\u001b[38;5;33mInputLayer\u001b[0m)        │                   │            │                   │\n",
              "├─────────────────────┼───────────────────┼────────────┼───────────────────┤\n",
              "│ transformer_encoder │ (\u001b[38;5;45mNone\u001b[0m, \u001b[38;5;45mNone\u001b[0m, \u001b[38;5;34m256\u001b[0m) │  \u001b[38;5;34m1,315,840\u001b[0m │ positional_embed… │\n",
              "│ (\u001b[38;5;33mTransformerEncode…\u001b[0m │                   │            │ not_equal[\u001b[38;5;34m0\u001b[0m][\u001b[38;5;34m0\u001b[0m]   │\n",
              "├─────────────────────┼───────────────────┼────────────┼───────────────────┤\n",
              "│ functional_3        │ (\u001b[38;5;45mNone\u001b[0m, \u001b[38;5;45mNone\u001b[0m,      │ \u001b[38;5;34m20,330,936\u001b[0m │ decoder_inputs[\u001b[38;5;34m0\u001b[0m… │\n",
              "│ (\u001b[38;5;33mFunctional\u001b[0m)        │ \u001b[38;5;34m35000\u001b[0m)            │            │ transformer_enco… │\n",
              "│                     │                   │            │ not_equal[\u001b[38;5;34m0\u001b[0m][\u001b[38;5;34m0\u001b[0m]   │\n",
              "└─────────────────────┴───────────────────┴────────────┴───────────────────┘\n"
            ],
            "text/html": [
              "<pre style=\"white-space:pre;overflow-x:auto;line-height:normal;font-family:Menlo,'DejaVu Sans Mono',consolas,'Courier New',monospace\">┏━━━━━━━━━━━━━━━━━━━━━┳━━━━━━━━━━━━━━━━━━━┳━━━━━━━━━━━━┳━━━━━━━━━━━━━━━━━━━┓\n",
              "┃<span style=\"font-weight: bold\"> Layer (type)        </span>┃<span style=\"font-weight: bold\"> Output Shape      </span>┃<span style=\"font-weight: bold\">    Param # </span>┃<span style=\"font-weight: bold\"> Connected to      </span>┃\n",
              "┡━━━━━━━━━━━━━━━━━━━━━╇━━━━━━━━━━━━━━━━━━━╇━━━━━━━━━━━━╇━━━━━━━━━━━━━━━━━━━┩\n",
              "│ encoder_inputs      │ (<span style=\"color: #00d7ff; text-decoration-color: #00d7ff\">None</span>, <span style=\"color: #00d7ff; text-decoration-color: #00d7ff\">None</span>)      │          <span style=\"color: #00af00; text-decoration-color: #00af00\">0</span> │ -                 │\n",
              "│ (<span style=\"color: #0087ff; text-decoration-color: #0087ff\">InputLayer</span>)        │                   │            │                   │\n",
              "├─────────────────────┼───────────────────┼────────────┼───────────────────┤\n",
              "│ positional_embeddi… │ (<span style=\"color: #00d7ff; text-decoration-color: #00d7ff\">None</span>, <span style=\"color: #00d7ff; text-decoration-color: #00d7ff\">None</span>, <span style=\"color: #00af00; text-decoration-color: #00af00\">256</span>) │  <span style=\"color: #00af00; text-decoration-color: #00af00\">8,967,680</span> │ encoder_inputs[<span style=\"color: #00af00; text-decoration-color: #00af00\">0</span>… │\n",
              "│ (<span style=\"color: #0087ff; text-decoration-color: #0087ff\">PositionalEmbeddi…</span> │                   │            │                   │\n",
              "├─────────────────────┼───────────────────┼────────────┼───────────────────┤\n",
              "│ not_equal           │ (<span style=\"color: #00d7ff; text-decoration-color: #00d7ff\">None</span>, <span style=\"color: #00d7ff; text-decoration-color: #00d7ff\">None</span>)      │          <span style=\"color: #00af00; text-decoration-color: #00af00\">0</span> │ encoder_inputs[<span style=\"color: #00af00; text-decoration-color: #00af00\">0</span>… │\n",
              "│ (<span style=\"color: #0087ff; text-decoration-color: #0087ff\">NotEqual</span>)          │                   │            │                   │\n",
              "├─────────────────────┼───────────────────┼────────────┼───────────────────┤\n",
              "│ decoder_inputs      │ (<span style=\"color: #00d7ff; text-decoration-color: #00d7ff\">None</span>, <span style=\"color: #00d7ff; text-decoration-color: #00d7ff\">None</span>)      │          <span style=\"color: #00af00; text-decoration-color: #00af00\">0</span> │ -                 │\n",
              "│ (<span style=\"color: #0087ff; text-decoration-color: #0087ff\">InputLayer</span>)        │                   │            │                   │\n",
              "├─────────────────────┼───────────────────┼────────────┼───────────────────┤\n",
              "│ transformer_encoder │ (<span style=\"color: #00d7ff; text-decoration-color: #00d7ff\">None</span>, <span style=\"color: #00d7ff; text-decoration-color: #00d7ff\">None</span>, <span style=\"color: #00af00; text-decoration-color: #00af00\">256</span>) │  <span style=\"color: #00af00; text-decoration-color: #00af00\">1,315,840</span> │ positional_embed… │\n",
              "│ (<span style=\"color: #0087ff; text-decoration-color: #0087ff\">TransformerEncode…</span> │                   │            │ not_equal[<span style=\"color: #00af00; text-decoration-color: #00af00\">0</span>][<span style=\"color: #00af00; text-decoration-color: #00af00\">0</span>]   │\n",
              "├─────────────────────┼───────────────────┼────────────┼───────────────────┤\n",
              "│ functional_3        │ (<span style=\"color: #00d7ff; text-decoration-color: #00d7ff\">None</span>, <span style=\"color: #00d7ff; text-decoration-color: #00d7ff\">None</span>,      │ <span style=\"color: #00af00; text-decoration-color: #00af00\">20,330,936</span> │ decoder_inputs[<span style=\"color: #00af00; text-decoration-color: #00af00\">0</span>… │\n",
              "│ (<span style=\"color: #0087ff; text-decoration-color: #0087ff\">Functional</span>)        │ <span style=\"color: #00af00; text-decoration-color: #00af00\">35000</span>)            │            │ transformer_enco… │\n",
              "│                     │                   │            │ not_equal[<span style=\"color: #00af00; text-decoration-color: #00af00\">0</span>][<span style=\"color: #00af00; text-decoration-color: #00af00\">0</span>]   │\n",
              "└─────────────────────┴───────────────────┴────────────┴───────────────────┘\n",
              "</pre>\n"
            ]
          },
          "metadata": {}
        },
        {
          "output_type": "display_data",
          "data": {
            "text/plain": [
              "\u001b[1m Total params: \u001b[0m\u001b[38;5;34m30,614,456\u001b[0m (116.78 MB)\n"
            ],
            "text/html": [
              "<pre style=\"white-space:pre;overflow-x:auto;line-height:normal;font-family:Menlo,'DejaVu Sans Mono',consolas,'Courier New',monospace\"><span style=\"font-weight: bold\"> Total params: </span><span style=\"color: #00af00; text-decoration-color: #00af00\">30,614,456</span> (116.78 MB)\n",
              "</pre>\n"
            ]
          },
          "metadata": {}
        },
        {
          "output_type": "display_data",
          "data": {
            "text/plain": [
              "\u001b[1m Trainable params: \u001b[0m\u001b[38;5;34m30,614,456\u001b[0m (116.78 MB)\n"
            ],
            "text/html": [
              "<pre style=\"white-space:pre;overflow-x:auto;line-height:normal;font-family:Menlo,'DejaVu Sans Mono',consolas,'Courier New',monospace\"><span style=\"font-weight: bold\"> Trainable params: </span><span style=\"color: #00af00; text-decoration-color: #00af00\">30,614,456</span> (116.78 MB)\n",
              "</pre>\n"
            ]
          },
          "metadata": {}
        },
        {
          "output_type": "display_data",
          "data": {
            "text/plain": [
              "\u001b[1m Non-trainable params: \u001b[0m\u001b[38;5;34m0\u001b[0m (0.00 B)\n"
            ],
            "text/html": [
              "<pre style=\"white-space:pre;overflow-x:auto;line-height:normal;font-family:Menlo,'DejaVu Sans Mono',consolas,'Courier New',monospace\"><span style=\"font-weight: bold\"> Non-trainable params: </span><span style=\"color: #00af00; text-decoration-color: #00af00\">0</span> (0.00 B)\n",
              "</pre>\n"
            ]
          },
          "metadata": {}
        }
      ],
      "source": [
        "transformer.summary()"
      ]
    },
    {
      "cell_type": "code",
      "execution_count": 49,
      "metadata": {
        "id": "rDRJZ6Od8k7O"
      },
      "outputs": [],
      "source": [
        "class CustomSchedule(tf.keras.optimizers.schedules.LearningRateSchedule):\n",
        "  def __init__(self, d_model, warmup_steps=4000):\n",
        "    super().__init__()\n",
        "\n",
        "    self.d_model = d_model\n",
        "    self.d_model = tf.cast(self.d_model, tf.float32)\n",
        "\n",
        "    self.warmup_steps = warmup_steps\n",
        "\n",
        "  def __call__(self, step):\n",
        "    step = tf.cast(step, dtype=tf.float32)\n",
        "    arg1 = tf.math.rsqrt(step)\n",
        "    arg2 = step * (self.warmup_steps ** -1.5)\n",
        "\n",
        "    return tf.math.rsqrt(self.d_model) * tf.math.minimum(arg1, arg2)\n",
        "\n",
        "  def get_config(self):\n",
        "    return {\"d_model\": self.d_model.numpy(), \"warmup_steps\": self.warmup_steps}"
      ]
    },
    {
      "cell_type": "code",
      "execution_count": 50,
      "metadata": {
        "id": "yxYNhrB18s1V"
      },
      "outputs": [],
      "source": [
        "\n",
        "learning_rate = CustomSchedule(latent_dim)\n",
        "\n",
        "optimizer = tf.keras.optimizers.Adam(learning_rate, beta_1=0.9, beta_2=0.98,\n",
        "                                     epsilon=1e-9)"
      ]
    },
    {
      "cell_type": "code",
      "execution_count": 51,
      "metadata": {
        "colab": {
          "base_uri": "https://localhost:8080/",
          "height": 466
        },
        "id": "QbU5_Miv8zzQ",
        "outputId": "a236a4a5-155a-486e-efc4-5674a5e08753"
      },
      "outputs": [
        {
          "output_type": "execute_result",
          "data": {
            "text/plain": [
              "Text(0.5, 0, 'Train Step')"
            ]
          },
          "metadata": {},
          "execution_count": 51
        },
        {
          "output_type": "display_data",
          "data": {
            "text/plain": [
              "<Figure size 640x480 with 1 Axes>"
            ],
            "image/png": "[encoded data removed]"
          },
          "metadata": {}
        }
      ],
      "source": [
        "plt.plot(learning_rate(tf.range(40000, dtype=tf.float32)))\n",
        "plt.ylabel('Learning Rate')\n",
        "plt.xlabel('Train Step')"
      ]
    },
    {
      "cell_type": "code",
      "execution_count": 52,
      "metadata": {
        "colab": {
          "base_uri": "https://localhost:8080/"
        },
        "id": "pMYgDpKkxesm",
        "outputId": "a8cb7404-5370-4216-87a6-c2a045247575"
      },
      "outputs": [
        {
          "output_type": "stream",
          "name": "stdout",
          "text": [
            "Drive already mounted at /content/drive; to attempt to forcibly remount, call drive.mount(\"/content/drive\", force_remount=True).\n"
          ]
        }
      ],
      "source": [
        "from google.colab import drive\n",
        "drive.mount('/content/drive')\n"
      ]
    },
    {
      "cell_type": "code",
      "execution_count": 53,
      "metadata": {
        "id": "74atnZHoxkOH"
      },
      "outputs": [],
      "source": [
        "import os\n",
        "\n",
        "drive_root = \"/content/drive/MyDrive/transformer_training-ver2\"\n",
        "\n",
        "# Create directories if not exist\n",
        "os.makedirs(drive_root, exist_ok=True)\n",
        "\n",
        "checkpoint_filepath = os.path.join(drive_root, \"checkpoint.keras\")\n",
        "csv_log_filepath = os.path.join(drive_root, \"training_log.csv\")\n",
        "backup_dir = os.path.join(drive_root, \"backup\")\n",
        "os.makedirs(backup_dir, exist_ok=True)\n"
      ]
    },
    {
      "cell_type": "code",
      "execution_count": 54,
      "metadata": {
        "id": "Ew4UXJG7gULL"
      },
      "outputs": [],
      "source": [
        "from tensorflow.keras import callbacks\n",
        "\n",
        "early_stopping = callbacks.EarlyStopping(\n",
        "    monitor='val_loss',\n",
        "    patience=10,\n",
        "    restore_best_weights=True\n",
        ")\n",
        "\n",
        "model_checkpoint_callback = callbacks.ModelCheckpoint(\n",
        "    filepath=checkpoint_filepath,\n",
        "    save_weights_only=False,\n",
        "    monitor='val_accuracy',\n",
        "    mode='max',\n",
        "    save_best_only=True\n",
        ")\n",
        "\n",
        "csv_logger = callbacks.CSVLogger(csv_log_filepath, append=True)\n",
        "\n",
        "backup_callback = callbacks.BackupAndRestore(\n",
        "    backup_dir=backup_dir,\n",
        "    delete_checkpoint=False\n",
        ")\n",
        "\n",
        "all_callbacks = [early_stopping, model_checkpoint_callback, csv_logger, backup_callback]\n"
      ]
    },
    {
      "cell_type": "code",
      "execution_count": 64,
      "metadata": {
        "id": "njReIjF2cIUk"
      },
      "outputs": [],
      "source": [
        "\n",
        "epochs = 25\n",
        "transformer.compile(\n",
        "    optimizer=optimizer,\n",
        "    loss=\"sparse_categorical_crossentropy\",\n",
        "    metrics=[\"accuracy\"]\n",
        ")"
      ]
    },
    {
      "cell_type": "code",
      "execution_count": 65,
      "metadata": {
        "id": "RrqJcDAGPUZm"
      },
      "outputs": [],
      "source": [
        "# tf.config.run_functions_eagerly(True)"
      ]
    },
    {
      "cell_type": "code",
      "execution_count": 66,
      "metadata": {
        "colab": {
          "base_uri": "https://localhost:8080/"
        },
        "id": "CDF5Iadd9TqO",
        "outputId": "bd59a2b7-7a3a-47f9-ec8f-998ef7dc9314"
      },
      "outputs": [
        {
          "output_type": "stream",
          "name": "stdout",
          "text": [
            "Epoch 25/25\n",
            "\u001b[1m1231/1231\u001b[0m \u001b[32m━━━━━━━━━━━━━━━━━━━━\u001b[0m\u001b[37m\u001b[0m \u001b[1m148s\u001b[0m 107ms/step - accuracy: 0.1614 - loss: 1.5818 - val_accuracy: 0.1364 - val_loss: 3.9577\n"
          ]
        }
      ],
      "source": [
        "history = transformer.fit(train_ds,\n",
        "                epochs=epochs,\n",
        "                validation_data=test_ds ,\n",
        "                callbacks=[\n",
        "                      early_stopping ,\n",
        "                      model_checkpoint_callback ,\n",
        "                      csv_logger ,\n",
        "                      backup_callback ] )"
      ]
    },
    {
      "cell_type": "code",
      "execution_count": 67,
      "metadata": {
        "id": "V3aBvgB-yFYx"
      },
      "outputs": [],
      "source": [
        "transformer.save('/content/V1-50k-106M.keras')\n"
      ]
    },
    {
      "cell_type": "code",
      "execution_count": 68,
      "metadata": {
        "colab": {
          "base_uri": "https://localhost:8080/",
          "height": 507
        },
        "id": "92V01oYBxxDx",
        "outputId": "ed7016dc-5d43-461d-c7fe-2351bf0067a3"
      },
      "outputs": [
        {
          "output_type": "display_data",
          "data": {
            "text/plain": [
              "<Figure size 1200x500 with 2 Axes>"
            ],
            "image/png": "[encoded data removed]"
          },
          "metadata": {}
        }
      ],
      "source": [
        "import os\n",
        "def plot_loss_and_accuracy(history, save_dir=None, filename=None):\n",
        "    # Extract the loss and accuracy values from the history object\n",
        "    loss = history.history['loss']\n",
        "    val_loss = history.history['val_loss']\n",
        "    accuracy = history.history['accuracy']\n",
        "    val_accuracy = history.history['val_accuracy']\n",
        "\n",
        "    # Get the number of epochs\n",
        "    epochs = range(1, len(loss) + 1)\n",
        "\n",
        "    # Plot training and validation loss\n",
        "    plt.figure(figsize=(12, 5))\n",
        "    plt.subplot(1, 2, 1)\n",
        "    plt.plot(epochs, loss, 'bo-', label='Training Loss')\n",
        "    plt.plot(epochs, val_loss, 'ro-', label='Validation Loss')\n",
        "    plt.title('Training and Validation Loss')\n",
        "    plt.xlabel('Epochs')\n",
        "    plt.ylabel('Loss')\n",
        "    plt.legend()\n",
        "\n",
        "    # Plot training and validation accuracy\n",
        "    plt.subplot(1, 2, 2)\n",
        "    plt.plot(epochs, accuracy, 'bo-', label='Training Accuracy')\n",
        "    plt.plot(epochs, val_accuracy, 'ro-', label='Validation Accuracy')\n",
        "    plt.title('Training and Validation Accuracy')\n",
        "    plt.xlabel('Epochs')\n",
        "    plt.ylabel('Accuracy')\n",
        "    plt.legend()\n",
        "\n",
        "    plt.tight_layout()\n",
        "\n",
        "    plt.show()\n",
        "plot_loss_and_accuracy(history ,\"/content/drive/MyDrive/NMT-Project\", \"V1-50k-106M_trainloss.png\" )"
      ]
    },
    {
      "cell_type": "code",
      "execution_count": 69,
      "metadata": {
        "id": "x4qe0ttVc2mI"
      },
      "outputs": [],
      "source": [
        "tam_vocab = tam_vectorization.get_vocabulary()\n",
        "tam_index_lookup = dict(zip(range(len(tam_vocab)), tam_vocab))\n",
        "max_decoded_sentence_length = 20"
      ]
    },
    {
      "cell_type": "code",
      "execution_count": 70,
      "metadata": {
        "id": "_0jL02Brex6k"
      },
      "outputs": [],
      "source": [
        "def decode_sequence(input_sentence):\n",
        "    tokenized_input_sentence = eng_vectorization([input_sentence])\n",
        "    decoded_sentence = \"[start]\"\n",
        "    for i in range(max_decoded_sentence_length):\n",
        "        tokenized_target_sentence = tam_vectorization([decoded_sentence])[:, :-1]\n",
        "        predictions = transformer([tokenized_input_sentence, tokenized_target_sentence])\n",
        "\n",
        "        sampled_token_index = np.argmax(predictions[0, i, :])\n",
        "        sampled_token = tam_index_lookup[sampled_token_index]\n",
        "        decoded_sentence += \" \" + sampled_token\n",
        "\n",
        "        if sampled_token == \"[end]\":\n",
        "            break\n",
        "    return decoded_sentence"
      ]
    },
    {
      "cell_type": "markdown",
      "metadata": {
        "id": "48uwpDWYw0LA"
      },
      "source": [
        "### Testing on Random Train Samples"
      ]
    },
    {
      "cell_type": "code",
      "execution_count": 71,
      "metadata": {
        "colab": {
          "base_uri": "https://localhost:8080/"
        },
        "id": "tf0EipyJfGZX",
        "outputId": "e7faaf73-04de-4688-cfe1-36473fabcca7"
      },
      "outputs": [
        {
          "output_type": "stream",
          "name": "stdout",
          "text": [
            "English -  I knew Tom was a Canadian.\n",
            "Tamil\n",
            "Ground Truth :  [start] டாம் ஒரு கனடியன் என்று எனக்குத் தெரியும். [end]\n",
            "Machine Translation :  [start] டாம் ஒரு கனடியன் என்று எனக்குத் தெரியும் [end]\n"
          ]
        }
      ],
      "source": [
        "# 1\n",
        "sample  = random.choice(train_pairs)\n",
        "input_sentence = sample[0]\n",
        "translated = decode_sequence(input_sentence)\n",
        "print('English - ' , input_sentence )\n",
        "print('Tamil' )\n",
        "print('Ground Truth : ', sample[1])\n",
        "print('Machine Translation : ' , translated )"
      ]
    },
    {
      "cell_type": "code",
      "execution_count": null,
      "metadata": {
        "colab": {
          "base_uri": "https://localhost:8080/"
        },
        "id": "rJ8Hv9Qvy7mu",
        "outputId": "bc42f6a3-9884-43ea-b9f0-8f6780ed39ce"
      },
      "outputs": [
        {
          "name": "stdout",
          "output_type": "stream",
          "text": [
            "English -  I didn't even know you knew.\n",
            "Tamil\n",
            "Ground Truth :  [start] உங்களுக்குத் தெரியும் என்று கூட எனக்குத் தெரியாது. [end]\n",
            "Machine Translation :  [start] உன்னை யாருக்கும் தெரியாது [end]\n"
          ]
        }
      ],
      "source": [
        "# 2\n",
        "sample  = random.choice(train_pairs)\n",
        "input_sentence = sample[0]\n",
        "translated = decode_sequence(input_sentence)\n",
        "print('English - ' , input_sentence )\n",
        "print('Tamil' )\n",
        "print('Ground Truth : ', sample[1])\n",
        "print('Machine Translation : ' , translated )"
      ]
    },
    {
      "cell_type": "code",
      "execution_count": null,
      "metadata": {
        "colab": {
          "base_uri": "https://localhost:8080/"
        },
        "id": "KBIfrd-Yt13o",
        "outputId": "4c84baa3-3306-49ab-a743-7c82a281ae17"
      },
      "outputs": [
        {
          "name": "stdout",
          "output_type": "stream",
          "text": [
            "English -  They'll never understand.\n",
            "Tamil\n",
            "Ground Truth :  [start] அவர்கள் ஒருபோதும் புரிந்து கொள்ள மாட்டார்கள். [end]\n",
            "Machine Translation :  [start] அவர்கள் ஒருபோதும் புரிந்து கொள்ள மாட்டார்கள் [end]\n"
          ]
        }
      ],
      "source": [
        "# 3\n",
        "sample  = random.choice(train_pairs)\n",
        "input_sentence = sample[0]\n",
        "translated = decode_sequence(input_sentence)\n",
        "print('English - ' , input_sentence )\n",
        "print('Tamil' )\n",
        "print('Ground Truth : ', sample[1])\n",
        "print('Machine Translation : ' , translated )"
      ]
    },
    {
      "cell_type": "markdown",
      "metadata": {
        "id": "W4KV5PbIzZgs"
      },
      "source": [
        "### Testing on Random Test samples"
      ]
    },
    {
      "cell_type": "code",
      "execution_count": null,
      "metadata": {
        "colab": {
          "base_uri": "https://localhost:8080/"
        },
        "id": "u0V7qFjmzZH-",
        "outputId": "b807d296-df08-48e3-d592-e1e40fb3bffa"
      },
      "outputs": [
        {
          "name": "stdout",
          "output_type": "stream",
          "text": [
            "English -  Tom doesn't even talk to Mary anymore.\n",
            "Tamil\n",
            "Ground Truth :  [start] டாம் மேரியுடன் பேசவே இல்லை. [end]\n",
            "Machine Translation :  [start] டாம் மேரியை இனி பேச விரும்பவில்லை [end]\n"
          ]
        }
      ],
      "source": [
        "# 1\n",
        "sample  = random.choice(test_pairs)\n",
        "input_sentence = sample[0]\n",
        "translated = decode_sequence(input_sentence)\n",
        "print('English - ' , input_sentence )\n",
        "print('Tamil' )\n",
        "print('Ground Truth : ', sample[1])\n",
        "print('Machine Translation : ' , translated )"
      ]
    },
    {
      "cell_type": "code",
      "execution_count": null,
      "metadata": {
        "colab": {
          "base_uri": "https://localhost:8080/"
        },
        "id": "cB9NtIaxzjC9",
        "outputId": "3009867d-805d-4bce-d81e-eacae485f7cf"
      },
      "outputs": [
        {
          "name": "stdout",
          "output_type": "stream",
          "text": [
            "English -  There's no way I'm going to do that.\n",
            "Tamil\n",
            "Ground Truth :  [start] நான் அதைச் செய்ய வழியில்லை. [end]\n",
            "Machine Translation :  [start] நான் அதைச் செய்ய வேண்டிய வேலை செய்யவில்லை [end]\n"
          ]
        }
      ],
      "source": [
        "# 2\n",
        "sample  = random.choice(test_pairs)\n",
        "input_sentence = sample[0]\n",
        "translated = decode_sequence(input_sentence)\n",
        "print('English - ' , input_sentence )\n",
        "print('Tamil' )\n",
        "print('Ground Truth : ', sample[1])\n",
        "print('Machine Translation : ' , translated )"
      ]
    },
    {
      "cell_type": "code",
      "execution_count": null,
      "metadata": {
        "colab": {
          "base_uri": "https://localhost:8080/"
        },
        "id": "1PgwLW6jzp46",
        "outputId": "d0ef33b5-ec80-42e9-cc37-a9355c53e1a6"
      },
      "outputs": [
        {
          "name": "stdout",
          "output_type": "stream",
          "text": [
            "English -  He was angry because of what she said.\n",
            "Tamil\n",
            "Ground Truth :  [start] அவள் சொன்னதால் அவனுக்கு கோபம் வந்தது. [end]\n",
            "Machine Translation :  [start] அவள் என்ன பெண் என்று அவர் மீது கோபமாக இருந்தார் [end]\n"
          ]
        }
      ],
      "source": [
        "# 3\n",
        "sample  = random.choice(test_pairs)\n",
        "input_sentence = sample[0]\n",
        "translated = decode_sequence(input_sentence)\n",
        "print('English - ' , input_sentence )\n",
        "print('Tamil' )\n",
        "print('Ground Truth : ', sample[1])\n",
        "print('Machine Translation : ' , translated )"
      ]
    },
    {
      "cell_type": "markdown",
      "metadata": {
        "id": "9v2hWFgm07NJ"
      },
      "source": [
        "### Testing on custom input"
      ]
    },
    {
      "cell_type": "code",
      "execution_count": null,
      "metadata": {
        "colab": {
          "base_uri": "https://localhost:8080/"
        },
        "id": "b_DVf4Kh061Q",
        "outputId": "2675e445-9387-4e96-c703-e9808850f78e"
      },
      "outputs": [
        {
          "name": "stdout",
          "output_type": "stream",
          "text": [
            "English -  My name is saliniyan\n",
            "Tamil\n",
            "Machine Translation :  [start] என் பெயர் வேலை [end]\n"
          ]
        }
      ],
      "source": [
        "input_sentence = \"My name is saliniyan\"\n",
        "translated = decode_sequence(input_sentence)\n",
        "print('English - ' , input_sentence )\n",
        "print('Tamil' )\n",
        "print('Machine Translation : ' , translated )"
      ]
    },
    {
      "cell_type": "code",
      "execution_count": null,
      "metadata": {
        "colab": {
          "base_uri": "https://localhost:8080/"
        },
        "id": "NI6nn8WSzvVP",
        "outputId": "fb61f05f-d4a6-4baa-9db3-e851ec19c52b"
      },
      "outputs": [
        {
          "name": "stdout",
          "output_type": "stream",
          "text": [
            "English -  I will buy milk later\n",
            "Tamil\n",
            "Machine Translation :  [start] நான் பால் வாங்க முடியும் [end]\n"
          ]
        }
      ],
      "source": [
        "input_sentence = \"I will buy milk later\"\n",
        "translated = decode_sequence(input_sentence)\n",
        "print('English - ' , input_sentence )\n",
        "print('Tamil' )\n",
        "print('Machine Translation : ' , translated )"
      ]
    },
    {
      "cell_type": "code",
      "execution_count": null,
      "metadata": {
        "colab": {
          "base_uri": "https://localhost:8080/"
        },
        "id": "X8Qia6QHXDMn",
        "outputId": "669d20ad-0b52-4f53-9e45-f9ed6340971b"
      },
      "outputs": [
        {
          "name": "stdout",
          "output_type": "stream",
          "text": [
            "English -  he is my friend.\n",
            "Tamil\n",
            "Machine Translation :  [start] அவர் என் நண்பர் [end]\n"
          ]
        }
      ],
      "source": [
        "input_sentence = \"he is my friend.\"\n",
        "translated = decode_sequence(input_sentence)\n",
        "print('English - ' , input_sentence )\n",
        "print('Tamil' )\n",
        "print('Machine Translation : ' , translated )"
      ]
    },
    {
      "cell_type": "markdown",
      "metadata": {
        "id": "toB5M_9u1rHx"
      },
      "source": [
        "---"
      ]
    },
    {
      "cell_type": "code",
      "execution_count": null,
      "metadata": {
        "colab": {
          "base_uri": "https://localhost:8080/"
        },
        "id": "ZQRv6DMs5rE4",
        "outputId": "569e004a-aeac-469a-d2a8-85272f121315"
      },
      "outputs": [
        {
          "name": "stdout",
          "output_type": "stream",
          "text": [
            "English -  he went to london.\n",
            "Tamil\n",
            "Machine Translation :  [start] அவர் லண்டன் சென்றார் [end]\n"
          ]
        }
      ],
      "source": [
        "input_sentence = \"he went to london.\"\n",
        "translated = decode_sequence(input_sentence)\n",
        "print('English - ' , input_sentence )\n",
        "print('Tamil' )\n",
        "print('Machine Translation : ' , translated )"
      ]
    },
    {
      "cell_type": "code",
      "execution_count": null,
      "metadata": {
        "colab": {
          "base_uri": "https://localhost:8080/"
        },
        "id": "44IsqUcUf6Hv",
        "outputId": "07c180ee-4420-4f23-a27c-8c5c2a6fcc6f"
      },
      "outputs": [
        {
          "name": "stdout",
          "output_type": "stream",
          "text": [
            "Input: I will buy milk later\n",
            "Predicted: [start] நான் பால் வாங்க முடியும் [end]\n",
            "Reference: நான் பிறகு பால் வாங்குவேன்\n",
            "BLEU: 0.048549177170732344\n",
            "----------------------------------------\n",
            "Input: he is my friend.\n",
            "Predicted: [start] அவர் என் நண்பர் [end]\n",
            "Reference: அவர் என் நண்பர்.\n",
            "BLEU: 0.11362193664674995\n",
            "----------------------------------------\n",
            "Input: he went to india\n",
            "Predicted: [start] அவர் இருக்கிறது உண்மையில் சென்றார் [end]\n",
            "Reference: அவர் இந்தியா சென்றார்.\n",
            "BLEU: 0.040824829046386304\n",
            "----------------------------------------\n",
            "Input: however, no action has so far been taken on the complaints.\n",
            "Predicted: [start] காரில் யாரும் இல்லை என்று டாமின் வாழ்க்கை [end]\n",
            "Reference: எனினும், புகார்களுக்கு இதுவரை எந்த நடவடிக்கையும் எடுக்கப்படவில்லை.\n",
            "BLEU: 0\n",
            "----------------------------------------\n",
            "\n",
            "===== Overall Scores =====\n",
            "Average BLEU: 0.05074898571596715\n",
            "Average chrF: 0.4584666889759384\n"
          ]
        }
      ],
      "source": [
        "from nltk.translate.bleu_score import sentence_bleu, SmoothingFunction\n",
        "from nltk.translate.chrf_score import corpus_chrf\n",
        "\n",
        "# Initialize metrics\n",
        "bleu_scores = []\n",
        "references = []\n",
        "hypotheses = []\n",
        "\n",
        "smooth = SmoothingFunction().method1\n",
        "\n",
        "# English input sentences\n",
        "sentences = [\n",
        "    \"I will buy milk later\",\n",
        "    \"he is my friend.\",\n",
        "    \"he went to india\",\n",
        "    \"however, no action has so far been taken on the complaints.\"\n",
        "]\n",
        "\n",
        "# Corresponding Tamil ground-truth translations (replace with your dataset ground-truths!)\n",
        "ground_truths = [\n",
        "    \"நான் பிறகு பால் வாங்குவேன்\",\n",
        "    \"அவர் என் நண்பர்.\",\n",
        "    \"அவர் இந்தியா சென்றார்.\",\n",
        "    \"எனினும், புகார்களுக்கு இதுவரை எந்த நடவடிக்கையும் எடுக்கப்படவில்லை.\"\n",
        "]\n",
        "\n",
        "# Loop over sentences\n",
        "for i in range(len(sentences)):\n",
        "    input_sentence = str(sentences[i])\n",
        "    translated = decode_sequence(input_sentence)  # model output\n",
        "    ground_truth = ground_truths[i]\n",
        "\n",
        "    print(\"Input:\", input_sentence)\n",
        "    print(\"Predicted:\", translated)\n",
        "    print(\"Reference:\", ground_truth)\n",
        "\n",
        "    # Prepare for score calculation\n",
        "    references.append([ground_truth.split()])  # BLEU expects list of list\n",
        "    hypotheses.append(translated.split())\n",
        "\n",
        "    # BLEU score per sentence\n",
        "    bleu = sentence_bleu([ground_truth.split()], translated.split(), smoothing_function=smooth)\n",
        "    bleu_scores.append(bleu)\n",
        "    print(\"BLEU:\", bleu)\n",
        "    print(\"-\" * 40)\n",
        "\n",
        "# Calculate overall metrics\n",
        "avg_bleu = sum(bleu_scores) / len(bleu_scores)\n",
        "avg_chrf = corpus_chrf([ref[0] for ref in references], hypotheses)\n",
        "\n",
        "print(\"\\n===== Overall Scores =====\")\n",
        "print(\"Average BLEU:\", avg_bleu)\n",
        "print(\"Average chrF:\", avg_chrf)\n"
      ]
    },
    {
      "cell_type": "code",
      "execution_count": null,
      "metadata": {
        "colab": {
          "base_uri": "https://localhost:8080/"
        },
        "id": "XqOLo2UdPyCY",
        "outputId": "20fba723-cdbe-497b-a9e4-5d0c1bf6bc6b"
      },
      "outputs": [
        {
          "name": "stdout",
          "output_type": "stream",
          "text": [
            "Collecting sacrebleu\n",
            "  Downloading sacrebleu-2.5.1-py3-none-any.whl.metadata (51 kB)\n",
            "\u001b[?25l     \u001b[90m━━━━━━━━━━━━━━━━━━━━━━━━━━━━━━━━━━━━━━━━\u001b[0m \u001b[32m0.0/51.8 kB\u001b[0m \u001b[31m?\u001b[0m eta \u001b[36m-:--:--\u001b[0m\r\u001b[2K     \u001b[90m━━━━━━━━━━━━━━━━━━━━━━━━━━━━━━━━━━━━━━━━\u001b[0m \u001b[32m51.8/51.8 kB\u001b[0m \u001b[31m3.2 MB/s\u001b[0m eta \u001b[36m0:00:00\u001b[0m\n",
            "\u001b[?25hCollecting evaluate\n",
            "  Downloading evaluate-0.4.5-py3-none-any.whl.metadata (9.5 kB)\n",
            "Collecting portalocker (from sacrebleu)\n",
            "  Downloading portalocker-3.2.0-py3-none-any.whl.metadata (8.7 kB)\n",
            "Requirement already satisfied: regex in /usr/local/lib/python3.12/dist-packages (from sacrebleu) (2024.11.6)\n",
            "Requirement already satisfied: tabulate>=0.8.9 in /usr/local/lib/python3.12/dist-packages (from sacrebleu) (0.9.0)\n",
            "Requirement already satisfied: numpy>=1.17 in /usr/local/lib/python3.12/dist-packages (from sacrebleu) (2.0.2)\n",
            "Collecting colorama (from sacrebleu)\n",
            "  Downloading colorama-0.4.6-py2.py3-none-any.whl.metadata (17 kB)\n",
            "Requirement already satisfied: lxml in /usr/local/lib/python3.12/dist-packages (from sacrebleu) (5.4.0)\n",
            "Requirement already satisfied: datasets>=2.0.0 in /usr/local/lib/python3.12/dist-packages (from evaluate) (4.0.0)\n",
            "Requirement already satisfied: dill in /usr/local/lib/python3.12/dist-packages (from evaluate) (0.3.8)\n",
            "Requirement already satisfied: pandas in /usr/local/lib/python3.12/dist-packages (from evaluate) (2.2.2)\n",
            "Requirement already satisfied: requests>=2.19.0 in /usr/local/lib/python3.12/dist-packages (from evaluate) (2.32.4)\n",
            "Requirement already satisfied: tqdm>=4.62.1 in /usr/local/lib/python3.12/dist-packages (from evaluate) (4.67.1)\n",
            "Requirement already satisfied: xxhash in /usr/local/lib/python3.12/dist-packages (from evaluate) (3.5.0)\n",
            "Requirement already satisfied: multiprocess in /usr/local/lib/python3.12/dist-packages (from evaluate) (0.70.16)\n",
            "Requirement already satisfied: fsspec>=2021.05.0 in /usr/local/lib/python3.12/dist-packages (from fsspec[http]>=2021.05.0->evaluate) (2025.3.0)\n",
            "Requirement already satisfied: huggingface-hub>=0.7.0 in /usr/local/lib/python3.12/dist-packages (from evaluate) (0.34.4)\n",
            "Requirement already satisfied: packaging in /usr/local/lib/python3.12/dist-packages (from evaluate) (25.0)\n",
            "Requirement already satisfied: filelock in /usr/local/lib/python3.12/dist-packages (from datasets>=2.0.0->evaluate) (3.19.1)\n",
            "Requirement already satisfied: pyarrow>=15.0.0 in /usr/local/lib/python3.12/dist-packages (from datasets>=2.0.0->evaluate) (18.1.0)\n",
            "Requirement already satisfied: pyyaml>=5.1 in /usr/local/lib/python3.12/dist-packages (from datasets>=2.0.0->evaluate) (6.0.2)\n",
            "Requirement already satisfied: aiohttp!=4.0.0a0,!=4.0.0a1 in /usr/local/lib/python3.12/dist-packages (from fsspec[http]>=2021.05.0->evaluate) (3.12.15)\n",
            "Requirement already satisfied: typing-extensions>=3.7.4.3 in /usr/local/lib/python3.12/dist-packages (from huggingface-hub>=0.7.0->evaluate) (4.15.0)\n",
            "Requirement already satisfied: hf-xet<2.0.0,>=1.1.3 in /usr/local/lib/python3.12/dist-packages (from huggingface-hub>=0.7.0->evaluate) (1.1.8)\n",
            "Requirement already satisfied: charset_normalizer<4,>=2 in /usr/local/lib/python3.12/dist-packages (from requests>=2.19.0->evaluate) (3.4.3)\n",
            "Requirement already satisfied: idna<4,>=2.5 in /usr/local/lib/python3.12/dist-packages (from requests>=2.19.0->evaluate) (3.10)\n",
            "Requirement already satisfied: urllib3<3,>=1.21.1 in /usr/local/lib/python3.12/dist-packages (from requests>=2.19.0->evaluate) (2.5.0)\n",
            "Requirement already satisfied: certifi>=2017.4.17 in /usr/local/lib/python3.12/dist-packages (from requests>=2.19.0->evaluate) (2025.8.3)\n",
            "Requirement already satisfied: python-dateutil>=2.8.2 in /usr/local/lib/python3.12/dist-packages (from pandas->evaluate) (2.9.0.post0)\n",
            "Requirement already satisfied: pytz>=2020.1 in /usr/local/lib/python3.12/dist-packages (from pandas->evaluate) (2025.2)\n",
            "Requirement already satisfied: tzdata>=2022.7 in /usr/local/lib/python3.12/dist-packages (from pandas->evaluate) (2025.2)\n",
            "Requirement already satisfied: aiohappyeyeballs>=2.5.0 in /usr/local/lib/python3.12/dist-packages (from aiohttp!=4.0.0a0,!=4.0.0a1->fsspec[http]>=2021.05.0->evaluate) (2.6.1)\n",
            "Requirement already satisfied: aiosignal>=1.4.0 in /usr/local/lib/python3.12/dist-packages (from aiohttp!=4.0.0a0,!=4.0.0a1->fsspec[http]>=2021.05.0->evaluate) (1.4.0)\n",
            "Requirement already satisfied: attrs>=17.3.0 in /usr/local/lib/python3.12/dist-packages (from aiohttp!=4.0.0a0,!=4.0.0a1->fsspec[http]>=2021.05.0->evaluate) (25.3.0)\n",
            "Requirement already satisfied: frozenlist>=1.1.1 in /usr/local/lib/python3.12/dist-packages (from aiohttp!=4.0.0a0,!=4.0.0a1->fsspec[http]>=2021.05.0->evaluate) (1.7.0)\n",
            "Requirement already satisfied: multidict<7.0,>=4.5 in /usr/local/lib/python3.12/dist-packages (from aiohttp!=4.0.0a0,!=4.0.0a1->fsspec[http]>=2021.05.0->evaluate) (6.6.4)\n",
            "Requirement already satisfied: propcache>=0.2.0 in /usr/local/lib/python3.12/dist-packages (from aiohttp!=4.0.0a0,!=4.0.0a1->fsspec[http]>=2021.05.0->evaluate) (0.3.2)\n",
            "Requirement already satisfied: yarl<2.0,>=1.17.0 in /usr/local/lib/python3.12/dist-packages (from aiohttp!=4.0.0a0,!=4.0.0a1->fsspec[http]>=2021.05.0->evaluate) (1.20.1)\n",
            "Requirement already satisfied: six>=1.5 in /usr/local/lib/python3.12/dist-packages (from python-dateutil>=2.8.2->pandas->evaluate) (1.17.0)\n",
            "Downloading sacrebleu-2.5.1-py3-none-any.whl (104 kB)\n",
            "\u001b[2K   \u001b[90m━━━━━━━━━━━━━━━━━━━━━━━━━━━━━━━━━━━━━━━━\u001b[0m \u001b[32m104.1/104.1 kB\u001b[0m \u001b[31m7.3 MB/s\u001b[0m eta \u001b[36m0:00:00\u001b[0m\n",
            "\u001b[?25hDownloading evaluate-0.4.5-py3-none-any.whl (84 kB)\n",
            "\u001b[2K   \u001b[90m━━━━━━━━━━━━━━━━━━━━━━━━━━━━━━━━━━━━━━━━\u001b[0m \u001b[32m84.1/84.1 kB\u001b[0m \u001b[31m8.7 MB/s\u001b[0m eta \u001b[36m0:00:00\u001b[0m\n",
            "\u001b[?25hDownloading colorama-0.4.6-py2.py3-none-any.whl (25 kB)\n",
            "Downloading portalocker-3.2.0-py3-none-any.whl (22 kB)\n",
            "Installing collected packages: portalocker, colorama, sacrebleu, evaluate\n",
            "Successfully installed colorama-0.4.6 evaluate-0.4.5 portalocker-3.2.0 sacrebleu-2.5.1\n"
          ]
        }
      ],
      "source": [
        "!pip install sacrebleu evaluate\n"
      ]
    },
    {
      "cell_type": "code",
      "execution_count": null,
      "metadata": {
        "colab": {
          "base_uri": "https://localhost:8080/"
        },
        "id": "VoWG-pFwJuXt",
        "outputId": "1e1f3eab-ecb4-4a6a-a9f9-cc732c6e011b"
      },
      "outputs": [
        {
          "name": "stdout",
          "output_type": "stream",
          "text": [
            "SacreBLEU: 0.6014293440416405\n"
          ]
        },
        {
          "name": "stderr",
          "output_type": "stream",
          "text": [
            "[nltk_data] Downloading package wordnet to /root/nltk_data...\n",
            "[nltk_data]   Package wordnet is already up-to-date!\n",
            "[nltk_data] Downloading package punkt_tab to /root/nltk_data...\n",
            "[nltk_data]   Package punkt_tab is already up-to-date!\n",
            "[nltk_data] Downloading package omw-1.4 to /root/nltk_data...\n",
            "[nltk_data]   Package omw-1.4 is already up-to-date!\n"
          ]
        },
        {
          "name": "stdout",
          "output_type": "stream",
          "text": [
            "METEOR: 0.1697820585810782\n",
            "TER: 216.66666666666666\n"
          ]
        }
      ],
      "source": [
        "import sacrebleu\n",
        "import evaluate\n",
        "\n",
        "# References & predictions (example for 200)\n",
        "refs = [[ref.replace(\"[start] \", \"\").replace(\" [end]\", \"\") for _, ref in text_pairs[:200]]]\n",
        "hyps = [decode_sequence(eng) for eng, _ in text_pairs[:200]]\n",
        "\n",
        "# SacreBLEU\n",
        "bleu = sacrebleu.corpus_bleu(hyps, refs)\n",
        "print(\"SacreBLEU:\", bleu.score)\n",
        "\n",
        "# METEOR\n",
        "meteor = evaluate.load(\"meteor\")\n",
        "meteor_score = meteor.compute(predictions=hyps, references=refs[0])\n",
        "print(\"METEOR:\", meteor_score[\"meteor\"])\n",
        "\n",
        "# TER\n",
        "ter = evaluate.load(\"ter\")\n",
        "ter_score = ter.compute(predictions=hyps, references=refs[0])\n",
        "print(\"TER:\", ter_score[\"score\"])   # <-- FIXED\n"
      ]
    },
    {
      "cell_type": "code",
      "source": [
        "# Install LocalTunnel\n",
        "!npm install -g localtunnel\n",
        "\n",
        "import threading\n",
        "import os\n",
        "from flask import Flask, request, jsonify\n",
        "import time\n",
        "\n",
        "# Flask app\n",
        "app = Flask(__name__)\n",
        "\n",
        "@app.route(\"/translate\", methods=[\"POST\"])\n",
        "def translate_api():\n",
        "    data = request.json\n",
        "    text = data.get(\"text\", \"\")\n",
        "    translated_text = decode_sequence(text)\n",
        "    return jsonify({\"input\": text, \"predicted\": translated_text})\n",
        "\n",
        "# Function to run Flask\n",
        "def run_flask():\n",
        "    app.run(host=\"0.0.0.0\", port=5001, debug=False)\n",
        "\n",
        "# Start Flask in background thread\n",
        "threading.Thread(target=run_flask, daemon=True).start()\n",
        "time.sleep(2)  # Give Flask time to start\n",
        "\n",
        "# Start LocalTunnel and capture the public URL\n",
        "print(\"Starting LocalTunnel...\")\n",
        "lt_command = \"lt --port 5001 --subdomain mytamilmodel\"\n",
        "os.system(lt_command + \" &\")\n"
      ],
      "metadata": {
        "id": "Zs_G4NxmWp__",
        "outputId": "01f2974e-b58e-45fd-af8b-6d2cac9b3105",
        "colab": {
          "base_uri": "https://localhost:8080/"
        }
      },
      "execution_count": 72,
      "outputs": [
        {
          "output_type": "stream",
          "name": "stdout",
          "text": [
            "\u001b[1G\u001b[0K⠙\u001b[1G\u001b[0K⠹\u001b[1G\u001b[0K⠸\u001b[1G\u001b[0K⠼\u001b[1G\u001b[0K⠴\u001b[1G\u001b[0K⠦\u001b[1G\u001b[0K⠧\u001b[1G\u001b[0K⠇\u001b[1G\u001b[0K⠏\u001b[1G\u001b[0K⠋\u001b[1G\u001b[0K⠙\u001b[1G\u001b[0K⠹\u001b[1G\u001b[0K⠸\u001b[1G\u001b[0K⠼\u001b[1G\u001b[0K⠴\u001b[1G\u001b[0K⠦\u001b[1G\u001b[0K⠧\u001b[1G\u001b[0K\n",
            "changed 22 packages in 2s\n",
            "\u001b[1G\u001b[0K⠧\u001b[1G\u001b[0K\n",
            "\u001b[1G\u001b[0K⠧\u001b[1G\u001b[0K3 packages are looking for funding\n",
            "\u001b[1G\u001b[0K⠧\u001b[1G\u001b[0K  run `npm fund` for details\n",
            "\u001b[1G\u001b[0K⠧\u001b[1G\u001b[0K * Serving Flask app '__main__'\n",
            " * Debug mode: off\n"
          ]
        },
        {
          "output_type": "stream",
          "name": "stderr",
          "text": [
            "INFO:werkzeug:\u001b[31m\u001b[1mWARNING: This is a development server. Do not use it in a production deployment. Use a production WSGI server instead.\u001b[0m\n",
            " * Running on all addresses (0.0.0.0)\n",
            " * Running on http://127.0.0.1:5001\n",
            " * Running on http://172.28.0.12:5001\n",
            "INFO:werkzeug:\u001b[33mPress CTRL+C to quit\u001b[0m\n"
          ]
        },
        {
          "output_type": "stream",
          "name": "stdout",
          "text": [
            "Starting LocalTunnel...\n"
          ]
        },
        {
          "output_type": "execute_result",
          "data": {
            "text/plain": [
              "0"
            ]
          },
          "metadata": {},
          "execution_count": 72
        }
      ]
    },
    {
      "cell_type": "code",
      "source": [
        "# Install pyngrok if not installed\n",
        "!npm install -g localtunnel\n",
        "\n",
        "import subprocess\n",
        "\n",
        "# Start LocalTunnel and capture the URL\n",
        "proc = subprocess.Popen(\n",
        "    [\"lt\", \"--port\", \"5001\", \"--subdomain\", \"mytamilmodel\"],\n",
        "    stdout=subprocess.PIPE,\n",
        "    stderr=subprocess.PIPE\n",
        ")\n",
        "\n",
        "# Read the first few lines to get the URL\n",
        "import time\n",
        "time.sleep(5)  # wait for tunnel to start\n",
        "\n",
        "proc.stdout.flush()\n",
        "for _ in range(10):\n",
        "    line = proc.stdout.readline()\n",
        "    if b\"https://\" in line:\n",
        "        public_url = line.decode().strip()\n",
        "        break\n",
        "\n",
        "print(\"Your public URL is:\", public_url)\n"
      ],
      "metadata": {
        "id": "g_cRJIXnY5Sm",
        "outputId": "3bde5997-3ce8-47f2-b2be-6b92327104af",
        "colab": {
          "base_uri": "https://localhost:8080/"
        }
      },
      "execution_count": 74,
      "outputs": [
        {
          "output_type": "stream",
          "name": "stdout",
          "text": [
            "\u001b[1G\u001b[0K⠙\u001b[1G\u001b[0K⠹\u001b[1G\u001b[0K⠸\u001b[1G\u001b[0K⠼\u001b[1G\u001b[0K⠴\u001b[1G\u001b[0K\n",
            "changed 22 packages in 658ms\n",
            "\u001b[1G\u001b[0K⠴\u001b[1G\u001b[0K\n",
            "\u001b[1G\u001b[0K⠴\u001b[1G\u001b[0K3 packages are looking for funding\n",
            "\u001b[1G\u001b[0K⠴\u001b[1G\u001b[0K  run `npm fund` for details\n",
            "\u001b[1G\u001b[0K⠴\u001b[1G\u001b[0KYour public URL is: your url is: https://new-ape-6.loca.lt\n"
          ]
        }
      ]
    },
    {
      "cell_type": "code",
      "source": [],
      "metadata": {
        "id": "f2JOQBU5Y-x4"
      },
      "execution_count": null,
      "outputs": []
    }
  ],
  "metadata": {
    "accelerator": "GPU",
    "colab": {
      "gpuType": "T4",
      "provenance": []
    },
    "kernelspec": {
      "display_name": "Python 3",
      "name": "python3"
    },
    "language_info": {
      "name": "python"
    }
  },
  "nbformat": 4,
  "nbformat_minor": 0
}